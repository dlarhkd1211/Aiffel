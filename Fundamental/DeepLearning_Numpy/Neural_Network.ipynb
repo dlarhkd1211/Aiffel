{
 "cells": [
  {
   "cell_type": "code",
   "execution_count": 1,
   "id": "3d6d602b",
   "metadata": {},
   "outputs": [
    {
     "name": "stdout",
     "output_type": "stream",
     "text": [
      "Downloading data from https://storage.googleapis.com/tensorflow/tf-keras-datasets/mnist.npz\n",
      "11493376/11490434 [==============================] - 0s 0us/step\n",
      "11501568/11490434 [==============================] - 0s 0us/step\n",
      "Model: \"sequential\"\n",
      "_________________________________________________________________\n",
      "Layer (type)                 Output Shape              Param #   \n",
      "=================================================================\n",
      "dense (Dense)                (None, 50)                39250     \n",
      "_________________________________________________________________\n",
      "dense_1 (Dense)              (None, 10)                510       \n",
      "=================================================================\n",
      "Total params: 39,760\n",
      "Trainable params: 39,760\n",
      "Non-trainable params: 0\n",
      "_________________________________________________________________\n",
      "Epoch 1/10\n",
      "1875/1875 [==============================] - 10s 2ms/step - loss: 0.5006 - accuracy: 0.8809\n",
      "Epoch 2/10\n",
      "1875/1875 [==============================] - 3s 2ms/step - loss: 0.2305 - accuracy: 0.9355\n",
      "Epoch 3/10\n",
      "1875/1875 [==============================] - 3s 2ms/step - loss: 0.1813 - accuracy: 0.9491\n",
      "Epoch 4/10\n",
      "1875/1875 [==============================] - 3s 2ms/step - loss: 0.1516 - accuracy: 0.9571\n",
      "Epoch 5/10\n",
      "1875/1875 [==============================] - 3s 2ms/step - loss: 0.1311 - accuracy: 0.9630\n",
      "Epoch 6/10\n",
      "1875/1875 [==============================] - 3s 2ms/step - loss: 0.1150 - accuracy: 0.9674\n",
      "Epoch 7/10\n",
      "1875/1875 [==============================] - 3s 1ms/step - loss: 0.1029 - accuracy: 0.9709\n",
      "Epoch 8/10\n",
      "1875/1875 [==============================] - 3s 2ms/step - loss: 0.0925 - accuracy: 0.9737\n",
      "Epoch 9/10\n",
      "1875/1875 [==============================] - 3s 2ms/step - loss: 0.0841 - accuracy: 0.9767\n",
      "Epoch 10/10\n",
      "1875/1875 [==============================] - 3s 2ms/step - loss: 0.0766 - accuracy: 0.9788\n",
      "313/313 - 1s - loss: 0.1074 - accuracy: 0.9674\n",
      "test_loss: 0.10744097828865051 \n",
      "test_accuracy: 0.9674000144004822\n"
     ]
    }
   ],
   "source": [
    "import tensorflow as tf\n",
    "from tensorflow import keras\n",
    "import numpy as np\n",
    "import matplotlib.pyplot as plt\n",
    "\n",
    "# MNIST 데이터를 로드. 다운로드하지 않았다면 다운로드까지 자동으로 진행됩니다. \n",
    "mnist = keras.datasets.mnist\n",
    "(x_train, y_train), (x_test, y_test) = mnist.load_data()   \n",
    "\n",
    "# 모델에 맞게 데이터 가공\n",
    "x_train_norm, x_test_norm = x_train / 255.0, x_test / 255.0\n",
    "x_train_reshaped = x_train_norm.reshape(-1, x_train_norm.shape[1]*x_train_norm.shape[2])\n",
    "x_test_reshaped = x_test_norm.reshape(-1, x_test_norm.shape[1]*x_test_norm.shape[2])\n",
    "\n",
    "# 딥러닝 모델 구성 - 2 Layer Perceptron\n",
    "model=keras.models.Sequential()\n",
    "model.add(keras.layers.Dense(50, activation='sigmoid', input_shape=(784,)))  # 입력층 d=784, 은닉층 레이어 H=50\n",
    "model.add(keras.layers.Dense(10, activation='softmax'))   # 출력층 레이어 K=10\n",
    "model.summary()\n",
    "\n",
    "# 모델 구성과 학습\n",
    "model.compile(optimizer='adam',\n",
    "             loss='sparse_categorical_crossentropy',\n",
    "             metrics=['accuracy'])\n",
    "model.fit(x_train_reshaped, y_train, epochs=10)\n",
    "\n",
    "# 모델 테스트 결과\n",
    "test_loss, test_accuracy = model.evaluate(x_test_reshaped,y_test, verbose=2)\n",
    "print(\"test_loss: {} \".format(test_loss))\n",
    "print(\"test_accuracy: {}\".format(test_accuracy))"
   ]
  },
  {
   "cell_type": "code",
   "execution_count": 2,
   "id": "5aaeadee",
   "metadata": {},
   "outputs": [
    {
     "name": "stdout",
     "output_type": "stream",
     "text": [
      "(60000, 784)\n"
     ]
    }
   ],
   "source": [
    "print(x_train_reshaped.shape)"
   ]
  },
  {
   "cell_type": "code",
   "execution_count": 3,
   "id": "d989ea8c",
   "metadata": {},
   "outputs": [
    {
     "name": "stdout",
     "output_type": "stream",
     "text": [
      "(5, 784)\n"
     ]
    }
   ],
   "source": [
    "X = x_train_reshaped[:5]\n",
    "print(X.shape)"
   ]
  },
  {
   "cell_type": "code",
   "execution_count": 4,
   "id": "a6110cf4",
   "metadata": {},
   "outputs": [],
   "source": [
    "weight_init_std = 0.1\n",
    "input_size = 784\n",
    "hidden_size = 50"
   ]
  },
  {
   "cell_type": "code",
   "execution_count": 5,
   "id": "5a7cb781",
   "metadata": {},
   "outputs": [
    {
     "name": "stdout",
     "output_type": "stream",
     "text": [
      "(784, 50)\n",
      "(50,)\n",
      "(5, 50)\n"
     ]
    }
   ],
   "source": [
    "W1 = weight_init_std * np.random.randn(input_size, hidden_size)\n",
    "b1 = np.zeros(hidden_size)\n",
    "a1 = np.dot(X, W1) + b1\n",
    "\n",
    "print(W1.shape)\n",
    "print(b1.shape)\n",
    "print(a1.shape)"
   ]
  },
  {
   "cell_type": "code",
   "execution_count": 6,
   "id": "aa12c583",
   "metadata": {},
   "outputs": [
    {
     "data": {
      "text/plain": [
       "array([-1.66041311, -0.31107065, -1.05387219, -0.43673462, -0.4465406 ,\n",
       "        1.43439834,  1.35057762,  1.27697802, -0.48953167, -0.91186388,\n",
       "       -0.62999472, -0.54537126, -1.48950483,  0.20796209, -0.82668384,\n",
       "        1.12565599,  1.59501182, -0.72694285, -0.14130993,  0.90395672,\n",
       "       -1.07364223,  0.3113542 , -1.41180072, -0.53840432,  0.32689039,\n",
       "       -1.06244718, -0.72892418, -1.20361481,  0.38215735, -0.55948818,\n",
       "       -1.16840201,  0.91426567,  0.43032263,  0.29012497,  0.7734242 ,\n",
       "       -0.68086322,  0.96863216, -0.0537481 ,  0.40163831,  0.78087653,\n",
       "        1.05957612, -0.18703832, -1.08526015, -0.56497334, -0.50913031,\n",
       "        0.66737926,  0.64104542, -1.35089395, -0.27159824, -0.07949012])"
      ]
     },
     "execution_count": 6,
     "metadata": {},
     "output_type": "execute_result"
    }
   ],
   "source": [
    "a1[0]"
   ]
  },
  {
   "cell_type": "markdown",
   "id": "07b523f1",
   "metadata": {},
   "source": [
    "## Activation Function"
   ]
  },
  {
   "cell_type": "code",
   "execution_count": 7,
   "id": "b71f4168",
   "metadata": {},
   "outputs": [
    {
     "name": "stdout",
     "output_type": "stream",
     "text": [
      "[0.15970655 0.42285343 0.25848223 0.39251932 0.39018358 0.8075857\n",
      " 0.79422405 0.78193493 0.3800039  0.28661858 0.34751173 0.36693898\n",
      " 0.18399606 0.55180395 0.30434671 0.75503634 0.83132006 0.32586596\n",
      " 0.46473119 0.71176193 0.25471105 0.57721577 0.19595019 0.36855886\n",
      " 0.58100257 0.25684207 0.32543085 0.23083279 0.59439332 0.36366589\n",
      " 0.23714395 0.71387226 0.60595071 0.57202673 0.68426115 0.33606867\n",
      " 0.72484677 0.48656621 0.59908122 0.68586899 0.74260953 0.45337626\n",
      " 0.25251187 0.36239751 0.37539742 0.66091608 0.65498974 0.20572426\n",
      " 0.43251477 0.48013793]\n"
     ]
    }
   ],
   "source": [
    "def sigmoid(x):\n",
    "    return 1 / (1 + np.exp(-x))  \n",
    "\n",
    "\n",
    "z1 = sigmoid(a1)\n",
    "print(z1[0])"
   ]
  },
  {
   "cell_type": "code",
   "execution_count": 9,
   "id": "c3ad3a4f",
   "metadata": {},
   "outputs": [],
   "source": [
    "def affine_layer_forward(X, W, b):\n",
    "    y = np.dot(X, W) + b\n",
    "    cache = (X, W, b)\n",
    "    return y, cache"
   ]
  },
  {
   "cell_type": "code",
   "execution_count": 10,
   "id": "e0409810",
   "metadata": {},
   "outputs": [
    {
     "name": "stdout",
     "output_type": "stream",
     "text": [
      "[ 0.40121705 -0.35891477 -0.00942561  0.24412164  0.52614096  0.33380373\n",
      "  0.53911585 -0.52970383  0.16778041 -0.60632068]\n"
     ]
    }
   ],
   "source": [
    "input_size = 784\n",
    "hidden_size = 50\n",
    "output_size = 10\n",
    "\n",
    "W1 = weight_init_std * np.random.randn(input_size, hidden_size)\n",
    "b1 = np.zeros(hidden_size)\n",
    "W2 = weight_init_std * np.random.randn(hidden_size, output_size)\n",
    "b2 = np.zeros(output_size)\n",
    "\n",
    "a1, cache1 = affine_layer_forward(X, W1, b1)\n",
    "z1 = sigmoid(a1)\n",
    "a2, cache2 = affine_layer_forward(z1, W2, b2)    # z1이 다시 두번째 레이어의 입력이 됩니다. \n",
    "\n",
    "print(a2[0])  # 최종 출력이 output_size만큼의 벡터가 되었습니다."
   ]
  },
  {
   "cell_type": "code",
   "execution_count": 11,
   "id": "99aa5bad",
   "metadata": {},
   "outputs": [],
   "source": [
    "def softmax(x):\n",
    "    if x.ndim == 2:\n",
    "        x = x.T\n",
    "        x = x - np.max(x, axis=0)\n",
    "        y = np.exp(x) / np.sum(np.exp(x), axis=0)\n",
    "        return y.T \n",
    "\n",
    "    x = x - np.max(x) # 오버플로 대책\n",
    "    return np.exp(x) / np.sum(np.exp(x))"
   ]
  },
  {
   "cell_type": "code",
   "execution_count": 12,
   "id": "86f35fbf",
   "metadata": {},
   "outputs": [
    {
     "data": {
      "text/plain": [
       "array([0.12899403, 0.06031823, 0.08555192, 0.1102412 , 0.14615826,\n",
       "       0.12058475, 0.14806701, 0.05084823, 0.10213847, 0.0470979 ])"
      ]
     },
     "execution_count": 12,
     "metadata": {},
     "output_type": "execute_result"
    }
   ],
   "source": [
    "y_hat = softmax(a2)\n",
    "y_hat[0]  # 10개의 숫자 중 하나일 확률이 되었습니다."
   ]
  },
  {
   "cell_type": "code",
   "execution_count": 13,
   "id": "5dd3c76e",
   "metadata": {},
   "outputs": [
    {
     "data": {
      "text/plain": [
       "array([[0., 0., 0., 0., 0., 1., 0., 0., 0., 0.],\n",
       "       [1., 0., 0., 0., 0., 0., 0., 0., 0., 0.],\n",
       "       [0., 0., 0., 0., 1., 0., 0., 0., 0., 0.],\n",
       "       [0., 1., 0., 0., 0., 0., 0., 0., 0., 0.],\n",
       "       [0., 0., 0., 0., 0., 0., 0., 0., 0., 1.]])"
      ]
     },
     "execution_count": 13,
     "metadata": {},
     "output_type": "execute_result"
    }
   ],
   "source": [
    "def _change_one_hot_label(X, num_category):\n",
    "    T = np.zeros((X.size, num_category))\n",
    "    for idx, row in enumerate(T):\n",
    "        row[X[idx]] = 1\n",
    "        \n",
    "    return T\n",
    "\n",
    "Y_digit = y_train[:5]\n",
    "t = _change_one_hot_label(Y_digit, 10)\n",
    "t"
   ]
  },
  {
   "cell_type": "code",
   "execution_count": 14,
   "id": "aa4b523a",
   "metadata": {},
   "outputs": [
    {
     "name": "stdout",
     "output_type": "stream",
     "text": [
      "[0.12899403 0.06031823 0.08555192 0.1102412  0.14615826 0.12058475\n",
      " 0.14806701 0.05084823 0.10213847 0.0470979 ]\n",
      "[0. 0. 0. 0. 0. 1. 0. 0. 0. 0.]\n"
     ]
    }
   ],
   "source": [
    "print(y_hat[0])\n",
    "print(t[0])"
   ]
  },
  {
   "cell_type": "code",
   "execution_count": 22,
   "id": "1abca2bd",
   "metadata": {},
   "outputs": [
    {
     "data": {
      "text/plain": [
       "2.3573953182235714"
      ]
     },
     "execution_count": 22,
     "metadata": {},
     "output_type": "execute_result"
    }
   ],
   "source": [
    "def cross_entropy_error(y, t):\n",
    "    if y.ndim == 1:\n",
    "        t = t.reshape(1, t.size)\n",
    "        y = y.reshape(1, y.size)\n",
    "        \n",
    "    # 훈련 데이터가 원-핫 벡터라면 정답 레이블의 인덱스로 반환\n",
    "    if t.size == y.size:\n",
    "        t = t.argmax(axis=1)\n",
    "             \n",
    "    batch_size = y.shape[0]\n",
    "    return -np.sum(np.log(y[np.arange(batch_size), t])) / batch_size\n",
    "\n",
    "Loss = cross_entropy_error(y_hat, t)\n",
    "Loss"
   ]
  },
  {
   "cell_type": "markdown",
   "id": "ff678049",
   "metadata": {},
   "source": [
    "## Gradient Descent"
   ]
  },
  {
   "cell_type": "code",
   "execution_count": 23,
   "id": "9a40062d",
   "metadata": {},
   "outputs": [
    {
     "data": {
      "text/plain": [
       "array([[ 0.02579881,  0.01206365,  0.01711038,  0.02204824,  0.02923165,\n",
       "        -0.17588305,  0.0296134 ,  0.01016965,  0.02042769,  0.00941958],\n",
       "       [-0.17235852,  0.01259878,  0.01786006,  0.02332643,  0.0277653 ,\n",
       "         0.02875059,  0.02513386,  0.01072877,  0.01854034,  0.00765438],\n",
       "       [ 0.02744321,  0.01178306,  0.01536236,  0.02469466, -0.17268935,\n",
       "         0.02499593,  0.0235176 ,  0.01407436,  0.0210499 ,  0.00976828],\n",
       "       [ 0.02812715, -0.18758468,  0.01940271,  0.0206456 ,  0.02604746,\n",
       "         0.02356417,  0.02530327,  0.012058  ,  0.0197422 ,  0.01269413],\n",
       "       [ 0.02538583,  0.01147553,  0.02239537,  0.02047505,  0.02907947,\n",
       "         0.02335638,  0.02433719,  0.01270805,  0.02002352, -0.1892364 ]])"
      ]
     },
     "execution_count": 23,
     "metadata": {},
     "output_type": "execute_result"
    }
   ],
   "source": [
    "batch_num = y_hat.shape[0]\n",
    "dy = (y_hat - t) / batch_num\n",
    "dy #dy = ∂Loss / ∂y"
   ]
  },
  {
   "cell_type": "markdown",
   "id": "3d967d31",
   "metadata": {},
   "source": [
    "Chain Rule을 이용한 계산"
   ]
  },
  {
   "attachments": {
    "image.png": {
     "image/png": "[encoded data removed]"
    }
   },
   "cell_type": "markdown",
   "id": "dc8c6614",
   "metadata": {},
   "source": [
    "![image.png](attachment:image.png)"
   ]
  },
  {
   "cell_type": "code",
   "execution_count": 24,
   "id": "45adf5e0",
   "metadata": {},
   "outputs": [
    {
     "data": {
      "text/plain": [
       "array([[-0.02832116, -0.07985156,  0.04803317,  0.05669366, -0.00315496,\n",
       "        -0.05359308,  0.06635977,  0.0304088 ,  0.05128602, -0.08786065],\n",
       "       [ 0.02171426, -0.04768074,  0.03689223,  0.04631407, -0.0738185 ,\n",
       "        -0.05461242,  0.05285185,  0.02517264,  0.04178263, -0.04861602],\n",
       "       [-0.0210043 , -0.07246576,  0.05906537,  0.07030189, -0.06271996,\n",
       "        -0.01365424,  0.07977329,  0.0386683 ,  0.0633803 , -0.14134489],\n",
       "       [-0.0321866 , -0.07223527,  0.04985839,  0.05875687, -0.01222916,\n",
       "        -0.04054532,  0.06818471,  0.03171446,  0.05306721, -0.10438528],\n",
       "       [-0.01035647, -0.05569987,  0.03778277,  0.04814419, -0.07855463,\n",
       "        -0.03197229,  0.05409126,  0.02594744,  0.04283769, -0.0322201 ],\n",
       "       [-0.0437896 , -0.02429313,  0.0499905 ,  0.0628676 , -0.05777379,\n",
       "        -0.08411666,  0.07206848,  0.03302083,  0.05584023, -0.06381446],\n",
       "       [ 0.00770802, -0.07771534,  0.03260001,  0.03850294, -0.01354875,\n",
       "        -0.03713243,  0.045178  ,  0.02098706,  0.03517037, -0.05174987],\n",
       "       [ 0.01859358, -0.0437656 ,  0.02080891,  0.02738457, -0.06592423,\n",
       "        -0.02504132,  0.03062961,  0.01493406,  0.0245056 , -0.00212518],\n",
       "       [-0.02874249, -0.05368869,  0.05023335,  0.06227592, -0.07715729,\n",
       "        -0.03251853,  0.07024581,  0.03363568,  0.05553475, -0.07981852],\n",
       "       [-0.02185273, -0.02664637,  0.03275289,  0.04161073, -0.04081804,\n",
       "        -0.06427763,  0.04790591,  0.02178445,  0.0370011 , -0.02746031],\n",
       "       [-0.01159513, -0.05923116,  0.04038841,  0.04622517,  0.00595674,\n",
       "        -0.03658812,  0.05433696,  0.02520071,  0.04223112, -0.1069247 ],\n",
       "       [-0.01156682,  0.00109982,  0.0325983 ,  0.0419198 , -0.06993182,\n",
       "        -0.05409132,  0.04727336,  0.02227889,  0.03719693, -0.04677714],\n",
       "       [ 0.02294634, -0.06897278,  0.03386823,  0.03973333, -0.04527499,\n",
       "        -0.00256352,  0.04525229,  0.02242922,  0.03636981, -0.08378794],\n",
       "       [-0.04075796, -0.08753792,  0.05693105,  0.06842078, -0.05568062,\n",
       "        -0.00840666,  0.07753309,  0.03730106,  0.06132506, -0.10912787],\n",
       "       [-0.09559514, -0.04987096,  0.04804466,  0.0576551 ,  0.04300995,\n",
       "        -0.09452571,  0.06855378,  0.02936193,  0.05128877, -0.05792238],\n",
       "       [-0.07760165, -0.07765109,  0.07084678,  0.08488231, -0.01998798,\n",
       "        -0.06800672,  0.0981175 ,  0.04516531,  0.07599002, -0.13175448],\n",
       "       [ 0.02181535, -0.11559235,  0.04754418,  0.05516117, -0.02816345,\n",
       "        -0.02410596,  0.06411978,  0.03070631,  0.05063023, -0.10211526],\n",
       "       [-0.00107369, -0.06789852,  0.05868547,  0.07084538, -0.05711684,\n",
       "        -0.07236685,  0.08179583,  0.03838276,  0.06407759, -0.11533113],\n",
       "       [-0.09711619, -0.03532709,  0.05092681,  0.06015934, -0.02639248,\n",
       "         0.02929663,  0.06726724,  0.03257492,  0.05325792, -0.13464711],\n",
       "       [-0.00348456, -0.07143608,  0.06240176,  0.07469905, -0.04794113,\n",
       "        -0.07821693,  0.08659601,  0.0404611 ,  0.06768223, -0.13076146],\n",
       "       [ 0.01722036, -0.01961122,  0.03499886,  0.04521396, -0.09755282,\n",
       "        -0.05011391,  0.05066278,  0.02452337,  0.04041593, -0.04575732],\n",
       "       [-0.01129517, -0.05809549,  0.04102163,  0.04940667, -0.02378508,\n",
       "        -0.05720186,  0.05753117,  0.02649948,  0.04463892, -0.06872027],\n",
       "       [ 0.00835715, -0.05410334,  0.04112091,  0.0475836 ,  0.00298682,\n",
       "        -0.07113654,  0.05663896,  0.02575146,  0.0436877 , -0.10088673],\n",
       "       [-0.03540071, -0.05596663,  0.04070563,  0.04904187, -0.03875566,\n",
       "        -0.00723537,  0.05552475,  0.02663293,  0.04385238, -0.07839919],\n",
       "       [-0.02469618, -0.05608099,  0.03986947,  0.05072406, -0.06200636,\n",
       "        -0.05157979,  0.05770973,  0.02689472,  0.0450568 , -0.02589144],\n",
       "       [-0.03574456, -0.09072765,  0.05937019,  0.07329377, -0.05249475,\n",
       "        -0.0780836 ,  0.08453533,  0.03896268,  0.06560053, -0.06471195],\n",
       "       [-0.06035373, -0.07699817,  0.05466164,  0.06371138,  0.00694223,\n",
       "        -0.03190451,  0.07398542,  0.0342374 ,  0.05737051, -0.12165216],\n",
       "       [-0.05855153, -0.10183614,  0.06138092,  0.07514995, -0.04686091,\n",
       "        -0.04856197,  0.08610174,  0.04008824,  0.06705316, -0.07396346],\n",
       "       [-0.08472968, -0.03623961,  0.02838473,  0.03599294, -0.03324527,\n",
       "         0.02016055,  0.0394519 ,  0.01888358,  0.03103428, -0.01969341],\n",
       "       [-0.10319344, -0.03943586,  0.05061479,  0.05953735, -0.00128501,\n",
       "         0.00496431,  0.06762243,  0.0318083 ,  0.0527812 , -0.12341407],\n",
       "       [-0.02556826, -0.08417077,  0.04302524,  0.0528991 , -0.02836908,\n",
       "        -0.05826136,  0.06139434,  0.0280704 ,  0.04743667, -0.03645627],\n",
       "       [-0.06369709, -0.06144734,  0.03633254,  0.04464866, -0.02438423,\n",
       "        -0.0065989 ,  0.0505258 ,  0.0236778 ,  0.03940084, -0.03845807],\n",
       "       [ 0.02163266, -0.07516648,  0.04032373,  0.0485321 , -0.07488633,\n",
       "         0.00052636,  0.05454329,  0.02726922,  0.04404638, -0.08682093],\n",
       "       [-0.00807149, -0.0311995 ,  0.03637636,  0.04358882, -0.03650685,\n",
       "        -0.03118951,  0.04992434,  0.0237421 ,  0.03934539, -0.08600966],\n",
       "       [-0.05513296, -0.04252084,  0.04382509,  0.05282873, -0.01550376,\n",
       "        -0.04051007,  0.06084233,  0.0280199 ,  0.04713008, -0.07897849],\n",
       "       [-0.01667355, -0.05098669,  0.04847324,  0.05686878, -0.00588426,\n",
       "        -0.0668351 ,  0.06673411,  0.03059573,  0.05164673, -0.11393897],\n",
       "       [-0.01010308, -0.01986348,  0.03467861,  0.04270269, -0.06352964,\n",
       "        -0.01646115,  0.04781146,  0.02335315,  0.0381966 , -0.07678516],\n",
       "       [-0.0522995 , -0.05090506,  0.04895112,  0.05952584, -0.0339704 ,\n",
       "        -0.04095987,  0.06813852,  0.0317346 ,  0.05308885, -0.08330409],\n",
       "       [-0.01365925, -0.08452594,  0.03049821,  0.0377861 , -0.03600821,\n",
       "        -0.01696704,  0.04313942,  0.02038073,  0.03382794, -0.01447196],\n",
       "       [-0.01579593, -0.0593575 ,  0.03649051,  0.04496166, -0.07642703,\n",
       "         0.02056922,  0.04951289,  0.02494367,  0.04008561, -0.0649831 ],\n",
       "       [-0.05955392, -0.12962196,  0.04802171,  0.05494282,  0.02175959,\n",
       "         0.01007908,  0.06376901,  0.02987132,  0.04960289, -0.08887052],\n",
       "       [-0.06450311, -0.1011383 ,  0.06947441,  0.08319442, -0.04874311,\n",
       "        -0.01963982,  0.09477164,  0.04503777,  0.07449119, -0.13294509],\n",
       "       [-0.01829557, -0.11683161,  0.06764162,  0.08196653, -0.05346038,\n",
       "        -0.07562169,  0.09480645,  0.04414763,  0.07391918, -0.09827216],\n",
       "       [-0.06395749, -0.03688752,  0.04556618,  0.05570274, -0.00535389,\n",
       "        -0.0766908 ,  0.06494835,  0.02893965,  0.04956881, -0.06183603],\n",
       "       [-0.02134308, -0.08311631,  0.05577724,  0.06808043, -0.07045493,\n",
       "        -0.03238251,  0.07735198,  0.03699275,  0.06108415, -0.09198971],\n",
       "       [-0.05213225, -0.06013693,  0.03709641,  0.04428039,  0.00511351,\n",
       "        -0.03487393,  0.05155482,  0.02336152,  0.03958206, -0.05384561],\n",
       "       [ 0.01131341, -0.09618356,  0.0384326 ,  0.04799238, -0.09073087,\n",
       "         0.00590584,  0.05334311,  0.02669405,  0.04308316, -0.03985012],\n",
       "       [-0.01145291, -0.02750089,  0.03992299,  0.04679312, -0.00317876,\n",
       "        -0.06562876,  0.05510887,  0.02509954,  0.04254397, -0.10170716],\n",
       "       [-0.09856515, -0.05874569,  0.04376521,  0.05414858, -0.01580704,\n",
       "        -0.02305129,  0.06160495,  0.02819519,  0.04749426, -0.03903901],\n",
       "       [-0.02648966, -0.11081785,  0.03702484,  0.04536889, -0.03125411,\n",
       "        -0.01252527,  0.05191661,  0.02444642,  0.04059996, -0.01826982]])"
      ]
     },
     "execution_count": 24,
     "metadata": {},
     "output_type": "execute_result"
    }
   ],
   "source": [
    "dW2 = np.dot(z1.T, dy)    \n",
    "dW2"
   ]
  },
  {
   "cell_type": "code",
   "execution_count": 25,
   "id": "5d794555",
   "metadata": {},
   "outputs": [],
   "source": [
    "dW2 = np.dot(z1.T, dy)\n",
    "db2 = np.sum(dy, axis=0)"
   ]
  },
  {
   "cell_type": "code",
   "execution_count": 26,
   "id": "db281fdd",
   "metadata": {},
   "outputs": [],
   "source": [
    "def sigmoid_grad(x):\n",
    "    return (1.0 - sigmoid(x)) * sigmoid(x)"
   ]
  },
  {
   "cell_type": "code",
   "execution_count": 27,
   "id": "6ddb98b9",
   "metadata": {},
   "outputs": [],
   "source": [
    "dz1 = np.dot(dy, W2.T)\n",
    "da1 = sigmoid_grad(a1) * dz1\n",
    "dW1 = np.dot(X.T, da1)\n",
    "db1 = np.sum(dz1, axis=0)"
   ]
  },
  {
   "cell_type": "code",
   "execution_count": 28,
   "id": "8246192c",
   "metadata": {},
   "outputs": [],
   "source": [
    "learning_rate = 0.1\n",
    "\n",
    "def update_params(W1, b1, W2, b2, dW1, db1, dW2, db2, learning_rate):\n",
    "    W1 = W1 - learning_rate*dW1\n",
    "    b1 = b1 - learning_rate*db1\n",
    "    W2 = W2 - learning_rate*dW2\n",
    "    b2 = b2 - learning_rate*db2\n",
    "    return W1, b1, W2, b2"
   ]
  },
  {
   "cell_type": "code",
   "execution_count": 29,
   "id": "73c6b2d1",
   "metadata": {},
   "outputs": [],
   "source": [
    "def affine_layer_backward(dy, cache):\n",
    "    X, W, b = cache\n",
    "    dX = np.dot(dy, W.T)\n",
    "    dW = np.dot(X.T, dy)\n",
    "    db = np.sum(dy, axis=0)\n",
    "    return dX, dW, db"
   ]
  },
  {
   "cell_type": "code",
   "execution_count": 30,
   "id": "24c08f16",
   "metadata": {},
   "outputs": [
    {
     "name": "stdout",
     "output_type": "stream",
     "text": [
      "[[0.10886518 0.12760173 0.09006709 0.08616445 0.07292186 0.10979686\n",
      "  0.15062968 0.06791895 0.0793936  0.1066406 ]\n",
      " [0.14840535 0.14466687 0.08551577 0.08949962 0.06644841 0.08836424\n",
      "  0.14977485 0.06433282 0.07820798 0.08478409]\n",
      " [0.14138657 0.12997293 0.08679333 0.08440659 0.08166807 0.10016431\n",
      "  0.11749578 0.06646057 0.07723673 0.11441513]\n",
      " [0.13273088 0.12229644 0.08034268 0.07541841 0.07604125 0.08473538\n",
      "  0.1269791  0.07773166 0.09959254 0.12413167]\n",
      " [0.12810818 0.15070325 0.08445311 0.08227391 0.07175623 0.08246164\n",
      "  0.15725386 0.04856487 0.10199618 0.09242877]]\n",
      "[[0. 0. 0. 0. 0. 1. 0. 0. 0. 0.]\n",
      " [1. 0. 0. 0. 0. 0. 0. 0. 0. 0.]\n",
      " [0. 0. 0. 0. 1. 0. 0. 0. 0. 0.]\n",
      " [0. 1. 0. 0. 0. 0. 0. 0. 0. 0.]\n",
      " [0. 0. 0. 0. 0. 0. 0. 0. 0. 1.]]\n",
      "Loss:  2.2209295440312666\n"
     ]
    }
   ],
   "source": [
    "# 파라미터 초기화\n",
    "W1 = weight_init_std * np.random.randn(input_size, hidden_size)\n",
    "b1 = np.zeros(hidden_size)\n",
    "W2 = weight_init_std * np.random.randn(hidden_size, output_size)\n",
    "b2 = np.zeros(output_size)\n",
    "\n",
    "# Forward Propagation\n",
    "a1, cache1 = affine_layer_forward(X, W1, b1)\n",
    "z1 = sigmoid(a1)\n",
    "a2, cache2 = affine_layer_forward(z1, W2, b2)\n",
    "\n",
    "# 추론과 오차(Loss) 계산\n",
    "y_hat = softmax(a2)\n",
    "t = _change_one_hot_label(Y_digit, 10)   # 정답 One-hot 인코딩\n",
    "Loss = cross_entropy_error(y_hat, t)\n",
    "\n",
    "print(y_hat)\n",
    "print(t)\n",
    "print('Loss: ', Loss)\n",
    "        \n",
    "dy = (y_hat - t) / X.shape[0]\n",
    "dz1, dW2, db2 = affine_layer_backward(dy, cache2)\n",
    "da1 = sigmoid_grad(a1) * dz1\n",
    "dX, dW1, db1 = affine_layer_backward(da1, cache1)\n",
    "\n",
    "# 경사하강법을 통한 파라미터 업데이트    \n",
    "learning_rate = 0.1\n",
    "W1, b1, W2, b2 = update_params(W1, b1, W2, b2, dW1, db1, dW2, db2, learning_rate)"
   ]
  },
  {
   "cell_type": "code",
   "execution_count": 31,
   "id": "b88d1efe",
   "metadata": {},
   "outputs": [],
   "source": [
    "W1 = weight_init_std * np.random.randn(input_size, hidden_size)\n",
    "b1 = np.zeros(hidden_size)\n",
    "W2 = weight_init_std * np.random.randn(hidden_size, output_size)\n",
    "b2 = np.zeros(output_size)\n",
    "\n",
    "def train_step(X, Y, W1, b1, W2, b2, learning_rate=0.1, verbose=False):\n",
    "    a1, cache1 = affine_layer_forward(X, W1, b1)\n",
    "    z1 = sigmoid(a1)\n",
    "    a2, cache2 = affine_layer_forward(z1, W2, b2)\n",
    "    y_hat = softmax(a2)\n",
    "    t = _change_one_hot_label(Y, 10)\n",
    "    Loss = cross_entropy_error(y_hat, t)\n",
    "\n",
    "    if verbose:\n",
    "        print('---------')\n",
    "        print(y_hat)\n",
    "        print(t)\n",
    "        print('Loss: ', Loss)\n",
    "        \n",
    "    dy = (y_hat - t) / X.shape[0]\n",
    "    dz1, dW2, db2 = affine_layer_backward(dy, cache2)\n",
    "    da1 = sigmoid_grad(a1) * dz1\n",
    "    dX, dW1, db1 = affine_layer_backward(da1, cache1)\n",
    "    \n",
    "    W1, b1, W2, b2 = update_params(W1, b1, W2, b2, dW1, db1, dW2, db2, learning_rate)\n",
    "    \n",
    "    return W1, b1, W2, b2, Loss"
   ]
  },
  {
   "cell_type": "code",
   "execution_count": 32,
   "id": "c48f00f4",
   "metadata": {},
   "outputs": [
    {
     "name": "stdout",
     "output_type": "stream",
     "text": [
      "---------\n",
      "[[0.08273658 0.08637643 0.09765125 0.07711743 0.0759769  0.18179191\n",
      "  0.10206936 0.08569364 0.08880575 0.12178077]\n",
      " [0.089787   0.09789977 0.08479097 0.08337294 0.09200539 0.18157819\n",
      "  0.10117202 0.07535032 0.08678008 0.10726334]\n",
      " [0.11172797 0.09505055 0.10738343 0.05348479 0.10217917 0.17186815\n",
      "  0.09551334 0.08161176 0.09701954 0.08416129]\n",
      " [0.090957   0.08488936 0.10471017 0.06772107 0.09864443 0.22616129\n",
      "  0.09776325 0.07129167 0.07049491 0.08736684]\n",
      " [0.09848258 0.09489832 0.09652623 0.05869017 0.10481111 0.19350924\n",
      "  0.08594165 0.08441886 0.08435623 0.0983656 ]]\n",
      "[[0. 0. 0. 0. 0. 1. 0. 0. 0. 0.]\n",
      " [1. 0. 0. 0. 0. 0. 0. 0. 0. 0.]\n",
      " [0. 0. 0. 0. 1. 0. 0. 0. 0. 0.]\n",
      " [0. 1. 0. 0. 0. 0. 0. 0. 0. 0.]\n",
      " [0. 0. 0. 0. 0. 0. 0. 0. 0. 1.]]\n",
      "Loss:  2.236341154835769\n",
      "---------\n",
      "[[0.09742532 0.09855563 0.08274083 0.06743101 0.08655017 0.19027592\n",
      "  0.08715238 0.07471781 0.07619307 0.13895787]\n",
      " [0.10946983 0.11131847 0.07127325 0.07241964 0.10434147 0.18373644\n",
      "  0.08563703 0.06542051 0.0739223  0.12246107]\n",
      " [0.1277139  0.10675521 0.09174201 0.0473315  0.12151494 0.17157379\n",
      "  0.08208564 0.07164498 0.08422459 0.09541345]\n",
      " [0.10530816 0.10056285 0.08960766 0.06050753 0.11067269 0.22596593\n",
      "  0.08406866 0.06290437 0.06137052 0.09903162]\n",
      " [0.11388729 0.1069683  0.08146055 0.0515238  0.11813409 0.19241245\n",
      "  0.07274229 0.07335483 0.07253073 0.11698567]]\n",
      "[[0. 0. 0. 0. 0. 1. 0. 0. 0. 0.]\n",
      " [1. 0. 0. 0. 0. 0. 0. 0. 0. 0.]\n",
      " [0. 0. 0. 0. 1. 0. 0. 0. 0. 0.]\n",
      " [0. 1. 0. 0. 0. 0. 0. 0. 0. 0.]\n",
      " [0. 0. 0. 0. 0. 0. 0. 0. 0. 1.]]\n",
      "Loss:  2.0843561297385707\n",
      "---------\n",
      "[[0.11058939 0.10921617 0.07076983 0.05900271 0.09536855 0.19591321\n",
      "  0.07497132 0.06524373 0.06568081 0.15324428]\n",
      " [0.1284555  0.12275525 0.06046491 0.06291809 0.11438447 0.18289896\n",
      "  0.07303001 0.05685447 0.06325978 0.13497857]\n",
      " [0.14113193 0.11655075 0.07910236 0.04188812 0.14010445 0.16886003\n",
      "  0.07109228 0.06301705 0.07349605 0.10475698]\n",
      " [0.11786848 0.11575257 0.07755585 0.0541608  0.12045535 0.22301324\n",
      "  0.07299623 0.05570556 0.05377226 0.10871967]\n",
      " [0.12708683 0.11710879 0.06949806 0.04529329 0.12891561 0.18875879\n",
      "  0.06213722 0.06391916 0.0627453  0.13453694]]\n",
      "[[0. 0. 0. 0. 0. 1. 0. 0. 0. 0.]\n",
      " [1. 0. 0. 0. 0. 0. 0. 0. 0. 0.]\n",
      " [0. 0. 0. 0. 1. 0. 0. 0. 0. 0.]\n",
      " [0. 1. 0. 0. 0. 0. 0. 0. 0. 0.]\n",
      " [0. 0. 0. 0. 0. 0. 0. 0. 0. 1.]]\n",
      "Loss:  1.961968043388494\n",
      "---------\n",
      "[[0.12196705 0.11837798 0.06113304 0.05183993 0.1024722  0.2002488\n",
      "  0.06504757 0.05722865 0.05700341 0.16468137]\n",
      " [0.1463001  0.13227155 0.05178848 0.0548678  0.12224279 0.18075928\n",
      "  0.06281174 0.04960871 0.05448656 0.144863  ]\n",
      " [0.15188398 0.12452165 0.06884687 0.03718325 0.15778827 0.16519467\n",
      "  0.06209074 0.05567693 0.0645682  0.11224544]\n",
      " [0.12842914 0.13029904 0.06784852 0.04868462 0.12809084 0.21912889\n",
      "  0.06399988 0.0496046  0.04746536 0.11644911]\n",
      " [0.13793741 0.12541299 0.05993787 0.03999084 0.13730721 0.18427957\n",
      "  0.05359915 0.05599795 0.05469802 0.15083898]]\n",
      "[[0. 0. 0. 0. 0. 1. 0. 0. 0. 0.]\n",
      " [1. 0. 0. 0. 0. 0. 0. 0. 0. 0.]\n",
      " [0. 0. 0. 0. 1. 0. 0. 0. 0. 0.]\n",
      " [0. 1. 0. 0. 0. 0. 0. 0. 0. 0.]\n",
      " [0. 0. 0. 0. 0. 0. 0. 0. 0. 1.]]\n",
      "Loss:  1.8612513403472513\n",
      "---------\n",
      "[[0.13152658 0.12616405 0.05333602 0.04581994 0.1080361  0.20424056\n",
      "  0.05694873 0.05050961 0.04985988 0.17355852]\n",
      " [0.16282411 0.14005851 0.04478541 0.04812547 0.12819014 0.17828564\n",
      "  0.05451258 0.0435369  0.04728297 0.15239827]\n",
      " [0.16013365 0.13085504 0.06047673 0.03316226 0.1745913  0.16137317\n",
      "  0.05469484 0.04947911 0.0571491  0.11808478]\n",
      " [0.13701684 0.14416669 0.05995825 0.04400404 0.13383051 0.21528242\n",
      "  0.056644   0.04445922 0.0422252  0.12241284]\n",
      " [0.1465507  0.13207913 0.05223966 0.03552305 0.14362275 0.17988692\n",
      "  0.04669199 0.04939075 0.04808343 0.16593162]]\n",
      "[[0. 0. 0. 0. 0. 1. 0. 0. 0. 0.]\n",
      " [1. 0. 0. 0. 0. 0. 0. 0. 0. 0.]\n",
      " [0. 0. 0. 0. 1. 0. 0. 0. 0. 0.]\n",
      " [0. 1. 0. 0. 0. 0. 0. 0. 0. 0.]\n",
      " [0. 0. 0. 0. 0. 0. 0. 0. 0. 1.]]\n",
      "Loss:  1.7763627028659947\n"
     ]
    }
   ],
   "source": [
    "X = x_train_reshaped[:5]\n",
    "Y = y_train[:5]\n",
    "\n",
    "# train_step을 다섯 번 반복 돌립니다.\n",
    "for i in range(5):\n",
    "    W1, b1, W2, b2, _ = train_step(X, Y, W1, b1, W2, b2, learning_rate=0.1, verbose=True)"
   ]
  },
  {
   "cell_type": "code",
   "execution_count": 33,
   "id": "690087fe",
   "metadata": {},
   "outputs": [],
   "source": [
    "def predict(W1, b1, W2, b2, X):\n",
    "    a1 = np.dot(X, W1) + b1\n",
    "    z1 = sigmoid(a1)\n",
    "    a2 = np.dot(z1, W2) + b2\n",
    "    y = softmax(a2)\n",
    "\n",
    "    return y"
   ]
  },
  {
   "cell_type": "code",
   "execution_count": 34,
   "id": "27b4ff8a",
   "metadata": {},
   "outputs": [
    {
     "data": {
      "text/plain": [
       "array([0.13938433, 0.13273512, 0.04698239, 0.04077706, 0.11228306,\n",
       "       0.20841284, 0.05030711, 0.04488913, 0.0439673 , 0.18026166])"
      ]
     },
     "execution_count": 34,
     "metadata": {},
     "output_type": "execute_result"
    }
   ],
   "source": [
    "# X = x_train[:100] 에 대해 모델 추론을 시도합니다. \n",
    "X = x_train_reshaped[:100]\n",
    "Y = y_test[:100]\n",
    "result = predict(W1, b1, W2, b2, X)\n",
    "result[0]"
   ]
  },
  {
   "cell_type": "code",
   "execution_count": 35,
   "id": "6ccd7d00",
   "metadata": {},
   "outputs": [],
   "source": [
    "def accuracy(W1, b1, W2, b2, x, y):\n",
    "    y_hat = predict(W1, b1, W2, b2, x)\n",
    "    y_hat = np.argmax(y_hat, axis=1)\n",
    "\n",
    "    accuracy = np.sum(y_hat == y) / float(x.shape[0])\n",
    "    return accuracy"
   ]
  },
  {
   "cell_type": "code",
   "execution_count": 36,
   "id": "831369db",
   "metadata": {},
   "outputs": [
    {
     "name": "stdout",
     "output_type": "stream",
     "text": [
      "[0.13938433 0.13273512 0.04698239 0.04077706 0.11228306 0.20841284\n",
      " 0.05030711 0.04488913 0.0439673  0.18026166]\n",
      "[0. 0. 0. 0. 0. 0. 0. 1. 0. 0.]\n",
      "0.1\n"
     ]
    }
   ],
   "source": [
    "acc = accuracy(W1, b1, W2, b2, X, Y)\n",
    "\n",
    "t = _change_one_hot_label(Y, 10)\n",
    "print(result[0])\n",
    "print(t[0])\n",
    "print(acc)"
   ]
  },
  {
   "cell_type": "code",
   "execution_count": 37,
   "id": "f2e0e1b2",
   "metadata": {},
   "outputs": [],
   "source": [
    "def init_params(input_size, hidden_size, output_size, weight_init_std=0.01):\n",
    "\n",
    "    W1 = weight_init_std * np.random.randn(input_size, hidden_size)\n",
    "    b1 = np.zeros(hidden_size)\n",
    "    W2 = weight_init_std * np.random.randn(hidden_size, output_size)\n",
    "    b2 = np.zeros(output_size)\n",
    "\n",
    "    print(W1.shape)\n",
    "    print(b1.shape)\n",
    "    print(W2.shape)\n",
    "    print(b2.shape)\n",
    "    \n",
    "    return W1, b1, W2, b2"
   ]
  },
  {
   "cell_type": "code",
   "execution_count": 38,
   "id": "614e2e6c",
   "metadata": {},
   "outputs": [
    {
     "name": "stdout",
     "output_type": "stream",
     "text": [
      "(784, 50)\n",
      "(50,)\n",
      "(50, 10)\n",
      "(10,)\n",
      "Loss:  2.3026690740387052\n",
      "train acc, test acc | 0.09915, 0.1009\n",
      "Loss:  0.861103238082166\n",
      "train acc, test acc | 0.7929, 0.7969\n",
      "Loss:  0.4169444769288732\n",
      "train acc, test acc | 0.8788833333333333, 0.8822\n",
      "Loss:  0.30643216382396793\n",
      "train acc, test acc | 0.8982, 0.8994\n",
      "Loss:  0.26095064286557534\n",
      "train acc, test acc | 0.9066166666666666, 0.9111\n",
      "Loss:  0.3622319535761915\n",
      "train acc, test acc | 0.9147833333333333, 0.9177\n",
      "Loss:  0.21625815276288887\n",
      "train acc, test acc | 0.9194833333333333, 0.9224\n",
      "Loss:  0.32835716971699236\n",
      "train acc, test acc | 0.9235333333333333, 0.9244\n",
      "Loss:  0.311234519710758\n",
      "train acc, test acc | 0.9271, 0.9298\n",
      "Loss:  0.25812828525322545\n",
      "train acc, test acc | 0.9311666666666667, 0.9326\n",
      "Loss:  0.1544174655871142\n",
      "train acc, test acc | 0.93325, 0.9346\n",
      "Loss:  0.27249125718028766\n",
      "train acc, test acc | 0.9367166666666666, 0.9368\n",
      "Loss:  0.17508270205924975\n",
      "train acc, test acc | 0.9387833333333333, 0.9395\n",
      "Loss:  0.1442723146906571\n",
      "train acc, test acc | 0.94045, 0.9413\n",
      "Loss:  0.3296471694799125\n",
      "train acc, test acc | 0.9427666666666666, 0.9424\n",
      "Loss:  0.31437801517324604\n",
      "train acc, test acc | 0.9448833333333333, 0.9443\n",
      "Loss:  0.16755931837771676\n",
      "train acc, test acc | 0.9469833333333333, 0.9454\n",
      "Loss:  0.24205741166722866\n",
      "train acc, test acc | 0.9481333333333334, 0.947\n",
      "Loss:  0.13844618771715375\n",
      "train acc, test acc | 0.9494833333333333, 0.9484\n",
      "Loss:  0.23773804893363054\n",
      "train acc, test acc | 0.9516166666666667, 0.9487\n",
      "Loss:  0.23973369713133377\n",
      "train acc, test acc | 0.9526166666666667, 0.951\n",
      "Loss:  0.20986913379957922\n",
      "train acc, test acc | 0.9536333333333333, 0.9511\n",
      "Loss:  0.07991641163787927\n",
      "train acc, test acc | 0.9546833333333333, 0.9536\n",
      "Loss:  0.1797291970418148\n",
      "train acc, test acc | 0.95565, 0.9541\n",
      "Loss:  0.1644631203969532\n",
      "train acc, test acc | 0.9566833333333333, 0.9557\n",
      "Loss:  0.21732106707940665\n",
      "train acc, test acc | 0.9580166666666666, 0.9566\n",
      "Loss:  0.13665813449965808\n",
      "train acc, test acc | 0.9589833333333333, 0.957\n",
      "Loss:  0.043648480135184214\n",
      "train acc, test acc | 0.9594166666666667, 0.9581\n",
      "Loss:  0.13651473092520697\n",
      "train acc, test acc | 0.96115, 0.9589\n",
      "Loss:  0.10476747117231178\n",
      "train acc, test acc | 0.9618166666666667, 0.959\n",
      "Loss:  0.15704120730813695\n",
      "train acc, test acc | 0.9623666666666667, 0.9596\n",
      "Loss:  0.24962567272348482\n",
      "train acc, test acc | 0.9636166666666667, 0.9618\n",
      "Loss:  0.06523002784999309\n",
      "train acc, test acc | 0.9640833333333333, 0.9612\n",
      "Loss:  0.10992670676182799\n",
      "train acc, test acc | 0.9652, 0.9624\n",
      "Loss:  0.15294386648316385\n",
      "train acc, test acc | 0.9662333333333334, 0.962\n",
      "Loss:  0.13718489963400143\n",
      "train acc, test acc | 0.9669333333333333, 0.9628\n",
      "Loss:  0.10923611502416021\n",
      "train acc, test acc | 0.9669833333333333, 0.9629\n",
      "Loss:  0.10155156361226547\n",
      "train acc, test acc | 0.9678166666666667, 0.9639\n",
      "Loss:  0.09932020937606044\n",
      "train acc, test acc | 0.9687333333333333, 0.9642\n",
      "Loss:  0.12797256633950765\n",
      "train acc, test acc | 0.9689, 0.9638\n",
      "Loss:  0.10004461735459624\n",
      "train acc, test acc | 0.97, 0.9642\n",
      "Loss:  0.0627019049517065\n",
      "train acc, test acc | 0.9706, 0.9652\n",
      "Loss:  0.13079257354085494\n",
      "train acc, test acc | 0.9710166666666666, 0.9655\n",
      "Loss:  0.04451843826424664\n",
      "train acc, test acc | 0.9717333333333333, 0.9656\n",
      "Loss:  0.08743714166172292\n",
      "train acc, test acc | 0.9721333333333333, 0.9663\n",
      "Loss:  0.08629748924617844\n",
      "train acc, test acc | 0.9722166666666666, 0.9667\n",
      "Loss:  0.11289935367165502\n",
      "train acc, test acc | 0.973, 0.9671\n",
      "Loss:  0.04389034224495414\n",
      "train acc, test acc | 0.97325, 0.9672\n",
      "Loss:  0.06991802525558462\n",
      "train acc, test acc | 0.9735166666666667, 0.9674\n",
      "Loss:  0.13810109178930788\n",
      "train acc, test acc | 0.9739166666666667, 0.9676\n",
      "Loss:  0.1174008575051469\n",
      "train acc, test acc | 0.97485, 0.968\n",
      "Loss:  0.08721912595440205\n",
      "train acc, test acc | 0.9747166666666667, 0.9686\n",
      "Loss:  0.0967971745303958\n",
      "train acc, test acc | 0.9749166666666667, 0.9681\n",
      "Loss:  0.08532495712600775\n",
      "train acc, test acc | 0.97585, 0.9689\n",
      "Loss:  0.0992877401922849\n",
      "train acc, test acc | 0.9756166666666667, 0.9684\n",
      "Loss:  0.11321286816547602\n",
      "train acc, test acc | 0.97615, 0.9693\n",
      "Loss:  0.08244289202479434\n",
      "train acc, test acc | 0.9766166666666667, 0.9691\n",
      "Loss:  0.06021079381426883\n",
      "train acc, test acc | 0.9765333333333334, 0.9691\n",
      "Loss:  0.10061163380103016\n",
      "train acc, test acc | 0.9772666666666666, 0.9698\n",
      "Loss:  0.08153755373634834\n",
      "train acc, test acc | 0.9771166666666666, 0.9694\n",
      "Loss:  0.13385612741684533\n",
      "train acc, test acc | 0.9774166666666667, 0.9699\n",
      "Loss:  0.03403941231062162\n",
      "train acc, test acc | 0.9779666666666667, 0.9691\n",
      "Loss:  0.055907284654409174\n",
      "train acc, test acc | 0.9786, 0.9699\n",
      "Loss:  0.06231397865647662\n",
      "train acc, test acc | 0.9786166666666667, 0.9704\n",
      "Loss:  0.07092642891680606\n",
      "train acc, test acc | 0.9787333333333333, 0.97\n",
      "Loss:  0.11970820202870636\n",
      "train acc, test acc | 0.9791666666666666, 0.9708\n",
      "Loss:  0.04874884734932631\n",
      "train acc, test acc | 0.9797333333333333, 0.9707\n",
      "Loss:  0.165857824495359\n",
      "train acc, test acc | 0.9798166666666667, 0.9709\n",
      "Loss:  0.046403086761120996\n",
      "train acc, test acc | 0.9799166666666667, 0.9709\n",
      "Loss:  0.13029228272647644\n",
      "train acc, test acc | 0.9802666666666666, 0.9707\n",
      "Loss:  0.06591946761525265\n",
      "train acc, test acc | 0.9801333333333333, 0.971\n",
      "Loss:  0.06027666440409168\n",
      "train acc, test acc | 0.9803833333333334, 0.9704\n",
      "Loss:  0.07241478375717705\n",
      "train acc, test acc | 0.9806833333333334, 0.9709\n",
      "Loss:  0.0901013366809856\n",
      "train acc, test acc | 0.9808833333333333, 0.9712\n",
      "Loss:  0.056703001874586115\n",
      "train acc, test acc | 0.9813166666666666, 0.9707\n",
      "Loss:  0.06192007785016562\n",
      "train acc, test acc | 0.98145, 0.9711\n",
      "Loss:  0.056118066989702634\n",
      "train acc, test acc | 0.9818666666666667, 0.9709\n",
      "Loss:  0.07548583151589515\n",
      "train acc, test acc | 0.9820833333333333, 0.971\n",
      "Loss:  0.06510173535286118\n",
      "train acc, test acc | 0.9818333333333333, 0.9708\n",
      "Loss:  0.029172183125367908\n",
      "train acc, test acc | 0.98215, 0.9716\n",
      "Loss:  0.06532623447424286\n",
      "train acc, test acc | 0.9821, 0.9713\n",
      "Loss:  0.1698122344823642\n",
      "train acc, test acc | 0.98245, 0.972\n",
      "Loss:  0.07935705033146895\n",
      "train acc, test acc | 0.9824666666666667, 0.9722\n",
      "Loss:  0.06639779738102235\n",
      "train acc, test acc | 0.9829833333333333, 0.9713\n"
     ]
    }
   ],
   "source": [
    "# 하이퍼파라미터\n",
    "iters_num = 50000  # 반복 횟수를 적절히 설정한다.\n",
    "train_size = x_train.shape[0]\n",
    "batch_size = 100   # 미니배치 크기\n",
    "learning_rate = 0.1\n",
    "\n",
    "train_loss_list = []\n",
    "train_acc_list = []\n",
    "test_acc_list = []\n",
    "\n",
    "# 1에폭당 반복 수\n",
    "iter_per_epoch = max(train_size / batch_size, 1)\n",
    "\n",
    "W1, b1, W2, b2 = init_params(784, 50, 10)\n",
    "\n",
    "for i in range(iters_num):\n",
    "    # 미니배치 획득\n",
    "    batch_mask = np.random.choice(train_size, batch_size)\n",
    "    x_batch = x_train_reshaped[batch_mask]\n",
    "    y_batch = y_train[batch_mask]\n",
    "    \n",
    "    W1, b1, W2, b2, Loss = train_step(x_batch, y_batch, W1, b1, W2, b2, learning_rate=0.1, verbose=False)\n",
    "\n",
    "    # 학습 경과 기록\n",
    "    train_loss_list.append(Loss)\n",
    "    \n",
    "    # 1에폭당 정확도 계산\n",
    "    if i % iter_per_epoch == 0:\n",
    "        print('Loss: ', Loss)\n",
    "        train_acc = accuracy(W1, b1, W2, b2, x_train_reshaped, y_train)\n",
    "        test_acc = accuracy(W1, b1, W2, b2, x_test_reshaped, y_test)\n",
    "        train_acc_list.append(train_acc)\n",
    "        test_acc_list.append(test_acc)\n",
    "        print(\"train acc, test acc | \" + str(train_acc) + \", \" + str(test_acc))"
   ]
  },
  {
   "cell_type": "code",
   "execution_count": 39,
   "id": "bfd19661",
   "metadata": {},
   "outputs": [
    {
     "data": {
      "image/png": "[encoded data removed]",
      "text/plain": [
       "<Figure size 864x432 with 1 Axes>"
      ]
     },
     "metadata": {
      "needs_background": "light"
     },
     "output_type": "display_data"
    }
   ],
   "source": [
    "from matplotlib.pylab import rcParams\n",
    "rcParams['figure.figsize'] = 12, 6 \n",
    "\n",
    "# Accuracy 그래프 그리기\n",
    "markers = {'train': 'o', 'test': 's'}\n",
    "x = np.arange(len(train_acc_list))\n",
    "plt.plot(x, train_acc_list, label='train acc')\n",
    "plt.plot(x, test_acc_list, label='test acc', linestyle='--')\n",
    "plt.xlabel(\"epochs\")\n",
    "plt.ylabel(\"accuracy\")\n",
    "plt.ylim(0, 1.0)\n",
    "plt.legend(loc='lower right')\n",
    "plt.show()"
   ]
  },
  {
   "cell_type": "code",
   "execution_count": 40,
   "id": "6a0dbb97",
   "metadata": {},
   "outputs": [
    {
     "data": {
      "image/png": "[encoded data removed]",
      "text/plain": [
       "<Figure size 864x432 with 1 Axes>"
      ]
     },
     "metadata": {
      "needs_background": "light"
     },
     "output_type": "display_data"
    }
   ],
   "source": [
    "# Loss 그래프 그리기\n",
    "x = np.arange(len(train_loss_list))\n",
    "plt.plot(x, train_loss_list, label='train acc')\n",
    "plt.xlabel(\"epochs\")\n",
    "plt.ylabel(\"Loss\")\n",
    "plt.ylim(0, 3.0)\n",
    "plt.legend(loc='best')\n",
    "plt.show()"
   ]
  },
  {
   "cell_type": "code",
   "execution_count": null,
   "id": "8fb5e5c2",
   "metadata": {},
   "outputs": [],
   "source": []
  }
 ],
 "metadata": {
  "kernelspec": {
   "display_name": "Python 3 (ipykernel)",
   "language": "python",
   "name": "python3"
  },
  "language_info": {
   "codemirror_mode": {
    "name": "ipython",
    "version": 3
   },
   "file_extension": ".py",
   "mimetype": "text/x-python",
   "name": "python",
   "nbconvert_exporter": "python",
   "pygments_lexer": "ipython3",
   "version": "3.9.7"
  }
 },
 "nbformat": 4,
 "nbformat_minor": 5
}
