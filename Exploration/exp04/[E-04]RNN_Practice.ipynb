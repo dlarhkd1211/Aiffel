{
 "cells": [
  {
   "cell_type": "code",
   "execution_count": 1,
   "id": "2f90f93f",
   "metadata": {},
   "outputs": [
    {
     "name": "stdout",
     "output_type": "stream",
     "text": [
      "Source 문장: <start> 나는 밥을 먹었다 \n",
      "Target 문장:  나는 밥을 먹었다 <end>\n"
     ]
    }
   ],
   "source": [
    "sentence = \" 나는 밥을 먹었다 \"\n",
    "\n",
    "source_sentence = \"<start>\" + sentence\n",
    "target_sentence = sentence + \"<end>\"\n",
    "\n",
    "print(\"Source 문장:\", source_sentence)\n",
    "print(\"Target 문장:\", target_sentence)"
   ]
  },
  {
   "cell_type": "code",
   "execution_count": 2,
   "id": "0a8b075b",
   "metadata": {},
   "outputs": [],
   "source": [
    "import os\n",
    "import re\n",
    "import numpy as np\n",
    "import tensorflow as tf"
   ]
  },
  {
   "cell_type": "code",
   "execution_count": 3,
   "id": "98bdf54a",
   "metadata": {},
   "outputs": [
    {
     "name": "stdout",
     "output_type": "stream",
     "text": [
      "['First Citizen:', 'Before we proceed any further, hear me speak.', '', 'All:', 'Speak, speak.', '', 'First Citizen:', 'You are all resolved rather to die than to famish?', '']\n"
     ]
    }
   ],
   "source": [
    "file_path = os.getenv('HOME') + '/aiffel/lyricist/data/shakespeare.txt'\n",
    "with open(file_path, 'r') as f:\n",
    "    raw_corpus = f.read().splitlines()\n",
    "    \n",
    "print(raw_corpus[:9])"
   ]
  },
  {
   "cell_type": "code",
   "execution_count": 8,
   "id": "0dcd0b66",
   "metadata": {},
   "outputs": [
    {
     "name": "stdout",
     "output_type": "stream",
     "text": [
      "Before we proceed any further, hear me speak.\n",
      "Speak, speak.\n",
      "You are all resolved rather to die than to famish?\n"
     ]
    }
   ],
   "source": [
    "for idx, sentence in enumerate(raw_corpus):\n",
    "    if len(sentence) == 0 or sentence[-1] == ':':\n",
    "        continue\n",
    "    if idx > 9:\n",
    "        break\n",
    "    print(sentence)"
   ]
  },
  {
   "cell_type": "markdown",
   "id": "7b72bba6",
   "metadata": {},
   "source": [
    "## Tokenize"
   ]
  },
  {
   "cell_type": "markdown",
   "id": "00963696",
   "metadata": {},
   "source": [
    "1. Hi, my name is John. *(\"Hi,\" \"my\", ..., \"john.\" 으로 분리됨) - 문장부호\n",
    "\n",
    "2. First, open the first chapter. *(First와 first를 다른 단어로 인식) - 대소문자\n",
    "\n",
    "3. He is a ten-year-old boy. *(ten-year-old를 한 단어로 인식) - 특수문자"
   ]
  },
  {
   "cell_type": "markdown",
   "id": "546fcadf",
   "metadata": {},
   "source": [
    "\"1.\" 을 막기 위해 문장 부호 양쪽에 공백을 추가 할 거고요, \"2.\" 를 막기 위해 모든 문자들을 소문자로 변환 할 겁니다. \"3.\"을 막기 위해 특수문자들은 모두 제거 하도록 하죠!"
   ]
  },
  {
   "cell_type": "code",
   "execution_count": 15,
   "id": "3a1f612b",
   "metadata": {},
   "outputs": [],
   "source": [
    "def preprocess_sentence(sentence):\n",
    "    sentence = sentence.lower().strip()\n",
    "#     print(sentence)\n",
    "    sentence = re.sub(r\"([?.!,¿])\", r\" \\1\", sentence)\n",
    "#     print(sentence)\n",
    "    sentence = re.sub(r'[\" \"]+', \" \", sentence)\n",
    "#     print(sentence)\n",
    "    sentence = re.sub(r\"[^a-zA-Z?.!,¿]+\", \" \", sentence)\n",
    "#     print(sentence)\n",
    "    sentence = sentence.strip()\n",
    "#     print(sentence)\n",
    "    sentence = '<start> ' + sentence + ' <end>'\n",
    "    return sentence\n",
    "    "
   ]
  },
  {
   "cell_type": "code",
   "execution_count": 12,
   "id": "c38d2c41",
   "metadata": {},
   "outputs": [
    {
     "name": "stdout",
     "output_type": "stream",
     "text": [
      "this @_is ;;;sample        sentence.\n",
      "this @_is ;;;sample        sentence .\n",
      "this @_is ;;;sample sentence .\n",
      "this is sample sentence .\n",
      "this is sample sentence .\n",
      "<start> this is sample sentence . <end>\n"
     ]
    }
   ],
   "source": [
    "print(preprocess_sentence(\"This @_is ;;;sample        sentence.\"))"
   ]
  },
  {
   "cell_type": "code",
   "execution_count": 16,
   "id": "9a633e8f",
   "metadata": {},
   "outputs": [
    {
     "data": {
      "text/plain": [
       "['<start> before we proceed any further , hear me speak . <end>',\n",
       " '<start> speak , speak . <end>',\n",
       " '<start> you are all resolved rather to die than to famish ? <end>',\n",
       " '<start> resolved . resolved . <end>',\n",
       " '<start> first , you know caius marcius is chief enemy to the people . <end>',\n",
       " '<start> we know t , we know t . <end>',\n",
       " '<start> let us kill him , and we ll have corn at our own price . <end>',\n",
       " '<start> is t a verdict ? <end>',\n",
       " '<start> no more talking on t let it be done away , away ! <end>',\n",
       " '<start> one word , good citizens . <end>']"
      ]
     },
     "execution_count": 16,
     "metadata": {},
     "output_type": "execute_result"
    }
   ],
   "source": [
    "corpus =[]\n",
    "\n",
    "for sentence in  raw_corpus:\n",
    "    if len(sentence) == 0 or sentence[-1] == ':':\n",
    "        continue\n",
    "    preprocessed_sentence = preprocess_sentence(sentence)\n",
    "    corpus.append(preprocessed_sentence)\n",
    "    \n",
    "corpus[:10]"
   ]
  },
  {
   "cell_type": "markdown",
   "id": "e80ab474",
   "metadata": {},
   "source": [
    "## Vectorize\n",
    "\n",
    "정제된 데이터를 토큰화하고, 단어 사전(vocabulary 또는 dictionary라고 칭함)을 만들어주며, 데이터를 숫자로 변환\n",
    "\n",
    "숫자로 변환된 데이터를 텐서(tensor) 라고 칭합니다."
   ]
  },
  {
   "cell_type": "code",
   "execution_count": 20,
   "id": "ee44e0f2",
   "metadata": {},
   "outputs": [],
   "source": [
    "def tokenize(corpus):\n",
    "    tokenizer = tf.keras.preprocessing.text.Tokenizer(\n",
    "        num_words = 7000,\n",
    "        filters = ' ',\n",
    "        oov_token = \"<unk>\" # 7000단어에 포함되지 못한 단어는 '<unk>'\n",
    "    )\n",
    "    tokenizer.fit_on_texts(corpus)\n",
    "    tensor = tokenizer.texts_to_sequences(corpus)\n",
    "    tensor = tf.keras.preprocessing.sequence.pad_sequences(tensor, padding = 'post')\n",
    "    # 입력 데이터의 시퀀스 길이를 일정하게 맞춰줍니다\n",
    "    # 만약 시퀀스가 짧다면 문장 뒤에 패딩을 붙여 길이를 맞춰줍니다. post\n",
    "    # 문장 앞에 패딩을 붙여 길이를 맞추고 싶다면 padding='pre'를 사용합니다\n",
    "    \n",
    "    print(tensor, tokenizer)\n",
    "    return tensor, tokenizer"
   ]
  },
  {
   "cell_type": "code",
   "execution_count": 21,
   "id": "f46b1f29",
   "metadata": {},
   "outputs": [
    {
     "name": "stdout",
     "output_type": "stream",
     "text": [
      "[[   2  143   40 ...    0    0    0]\n",
      " [   2  110    4 ...    0    0    0]\n",
      " [   2   11   50 ...    0    0    0]\n",
      " ...\n",
      " [   2  149 4553 ...    0    0    0]\n",
      " [   2   34   71 ...    0    0    0]\n",
      " [   2  945   34 ...    0    0    0]] <keras_preprocessing.text.Tokenizer object at 0x7fcf412b8e80>\n"
     ]
    }
   ],
   "source": [
    "tensor, tokenizer = tokenize(corpus)"
   ]
  },
  {
   "cell_type": "code",
   "execution_count": 22,
   "id": "f795e08e",
   "metadata": {},
   "outputs": [
    {
     "name": "stdout",
     "output_type": "stream",
     "text": [
      "[[   2  143   40  933  140  591    4  124   24  110]\n",
      " [   2  110    4  110    5    3    0    0    0    0]\n",
      " [   2   11   50   43 1201  316    9  201   74    9]]\n"
     ]
    }
   ],
   "source": [
    "print(tensor[:3, :10])"
   ]
  },
  {
   "cell_type": "code",
   "execution_count": 23,
   "id": "dcad66bd",
   "metadata": {},
   "outputs": [
    {
     "name": "stdout",
     "output_type": "stream",
     "text": [
      "1 : <unk>\n",
      "2 : <start>\n",
      "3 : <end>\n",
      "4 : ,\n",
      "5 : .\n",
      "6 : the\n",
      "7 : and\n",
      "8 : i\n",
      "9 : to\n",
      "10 : of\n",
      "11 : you\n"
     ]
    }
   ],
   "source": [
    "for idx in tokenizer.index_word:\n",
    "    print(idx, \":\", tokenizer.index_word[idx])\n",
    "    \n",
    "    if idx > 10:\n",
    "        break"
   ]
  },
  {
   "cell_type": "code",
   "execution_count": 24,
   "id": "7e56c765",
   "metadata": {},
   "outputs": [
    {
     "name": "stdout",
     "output_type": "stream",
     "text": [
      "[  2 143  40 933 140 591   4 124  24 110   5   3   0   0   0   0   0   0\n",
      "   0   0]\n",
      "[143  40 933 140 591   4 124  24 110   5   3   0   0   0   0   0   0   0\n",
      "   0   0]\n"
     ]
    }
   ],
   "source": [
    "src_input = tensor[:, :-1]\n",
    "tgt_input = tensor[:, 1:]\n",
    "\n",
    "print(src_input[0])\n",
    "print(tgt_input[0])"
   ]
  },
  {
   "cell_type": "code",
   "execution_count": 25,
   "id": "f23e7fa6",
   "metadata": {},
   "outputs": [],
   "source": [
    "BUFFER_SIZE = len(src_input)\n",
    "BATCH_SIZE = 256\n",
    "steps_per_epoch = BUFFER_SIZE // BATCH_SIZE\n",
    "\n",
    "VOCAB_SIZE = tokenizer.num_words + 1"
   ]
  },
  {
   "cell_type": "code",
   "execution_count": 26,
   "id": "7e7fb95d",
   "metadata": {},
   "outputs": [
    {
     "data": {
      "text/plain": [
       "<BatchDataset shapes: ((256, 20), (256, 20)), types: (tf.int32, tf.int32)>"
      ]
     },
     "execution_count": 26,
     "metadata": {},
     "output_type": "execute_result"
    }
   ],
   "source": [
    "dataset =  tf.data.Dataset.from_tensor_slices((src_input, tgt_input))\n",
    "dataset = dataset.shuffle(BUFFER_SIZE)\n",
    "dataset = dataset.batch(BATCH_SIZE, drop_remainder=True)\n",
    "dataset"
   ]
  },
  {
   "cell_type": "markdown",
   "id": "06cbc4d0",
   "metadata": {},
   "source": [
    "## dataset 생성 과정\n",
    "\n",
    "정규표현식을 이용한 corpus 생성\n",
    "\n",
    "tf.keras.preprocessing.text.Tokenizer를 이용해 corpus를 텐서로 변환\n",
    "\n",
    "tf.data.Dataset.from_tensor_slices()를 이용해 corpus 텐서를 tf.data.Dataset객체로 변환"
   ]
  },
  {
   "cell_type": "markdown",
   "id": "21171adc",
   "metadata": {},
   "source": [
    "## Define Model"
   ]
  },
  {
   "attachments": {
    "image.png": {
     "image/png": "[encoded data removed]"
    }
   },
   "cell_type": "markdown",
   "id": "01178810",
   "metadata": {},
   "source": [
    "![image.png](attachment:image.png)"
   ]
  },
  {
   "cell_type": "code",
   "execution_count": 27,
   "id": "1b6b7794",
   "metadata": {},
   "outputs": [],
   "source": [
    "from tensorflow.keras.layers import *"
   ]
  },
  {
   "cell_type": "code",
   "execution_count": 30,
   "id": "422759a7",
   "metadata": {},
   "outputs": [],
   "source": [
    "class TextGenerator(tf.keras.Model):\n",
    "    def __init__(self, vocab_size, embedding_size, hidden_size):\n",
    "        super().__init__()\n",
    "        \n",
    "        self.embedding = Embedding(vocab_size, embedding_size)\n",
    "        self.rnn_1 = LSTM(hidden_size, return_sequences=True)\n",
    "        self.rnn_2 = LSTM(hidden_size, return_sequences=True)\n",
    "        self.linear = Dense(vocab_size)\n",
    "        \n",
    "    def call(self, x):\n",
    "        out = self.embedding(x)\n",
    "        out = self.rnn_1(out)\n",
    "        out = self.rnn_2(out)\n",
    "        out = self.linear(out)\n",
    "        \n",
    "        return out"
   ]
  },
  {
   "cell_type": "code",
   "execution_count": 31,
   "id": "346dd0ea",
   "metadata": {},
   "outputs": [],
   "source": [
    "embedding_size = 256\n",
    "hidden_size = 1024\n",
    "model = TextGenerator(VOCAB_SIZE, embedding_size, hidden_size)"
   ]
  },
  {
   "cell_type": "markdown",
   "id": "1ae65113",
   "metadata": {},
   "source": [
    "embedding_size 는 워드 벡터의 차원수, 즉 단어가 추상적으로 표현되는 크기\n",
    "\n",
    "hidden_size 는 모델에 얼마나 많은 일꾼을 둘 것인가"
   ]
  },
  {
   "cell_type": "code",
   "execution_count": 33,
   "id": "2bcc320b",
   "metadata": {},
   "outputs": [
    {
     "data": {
      "text/plain": [
       "<tf.Tensor: shape=(256, 20, 7001), dtype=float32, numpy=\n",
       "array([[[-2.27897035e-04, -3.34012700e-04,  2.81329121e-04, ...,\n",
       "          2.33594634e-04, -3.75970354e-04,  4.09709319e-04],\n",
       "        [-1.51034270e-04, -7.14623660e-04,  7.27406587e-04, ...,\n",
       "          3.68052599e-04, -3.30609881e-04,  3.59876169e-04],\n",
       "        [-2.00827606e-04, -9.84547078e-04,  9.16168327e-04, ...,\n",
       "          5.32511156e-04, -3.98105010e-04,  3.83247418e-04],\n",
       "        ...,\n",
       "        [-1.64599041e-03, -8.86733527e-04,  3.46346339e-03, ...,\n",
       "          4.45548072e-03, -1.11994706e-03, -1.13299924e-04],\n",
       "        [-1.73231435e-03, -8.28324526e-04,  3.53879202e-03, ...,\n",
       "          4.85956669e-03, -1.24631671e-03, -1.77147722e-05],\n",
       "        [-1.81057921e-03, -7.68781989e-04,  3.58151202e-03, ...,\n",
       "          5.18796640e-03, -1.35811709e-03,  8.44456517e-05]],\n",
       "\n",
       "       [[-2.27897035e-04, -3.34012700e-04,  2.81329121e-04, ...,\n",
       "          2.33594634e-04, -3.75970354e-04,  4.09709319e-04],\n",
       "        [ 4.03409285e-06, -5.76573599e-04,  5.68432093e-04, ...,\n",
       "          1.49059619e-04, -7.82226620e-04,  4.23087360e-04],\n",
       "        [ 2.84632610e-04, -5.76368126e-04,  2.60970381e-04, ...,\n",
       "          1.91244588e-04, -1.12392206e-03,  3.46829969e-04],\n",
       "        ...,\n",
       "        [-4.26485785e-04, -2.25441036e-04,  3.05372546e-03, ...,\n",
       "          3.51822376e-03, -1.26238598e-03,  1.85635363e-04],\n",
       "        [-6.47340261e-04, -2.86885392e-04,  3.21535580e-03, ...,\n",
       "          4.00639977e-03, -1.38507225e-03,  1.73428256e-04],\n",
       "        [-8.40795867e-04, -3.33958393e-04,  3.32829892e-03, ...,\n",
       "          4.42447187e-03, -1.49220938e-03,  1.85736804e-04]],\n",
       "\n",
       "       [[-2.27897035e-04, -3.34012700e-04,  2.81329121e-04, ...,\n",
       "          2.33594634e-04, -3.75970354e-04,  4.09709319e-04],\n",
       "        [-4.19977179e-04, -7.01728452e-04,  3.95639596e-04, ...,\n",
       "          1.72535802e-05, -4.62405820e-04,  3.54116259e-04],\n",
       "        [-4.34962712e-04, -1.41745608e-03,  3.17366066e-04, ...,\n",
       "         -3.15336365e-04, -5.10331767e-04,  3.06878319e-05],\n",
       "        ...,\n",
       "        [-8.90979252e-04,  1.35235372e-04,  2.33794982e-03, ...,\n",
       "          3.26874456e-03, -6.14039018e-04, -2.80854758e-04],\n",
       "        [-1.11965369e-03,  3.75851268e-05,  2.60669808e-03, ...,\n",
       "          3.81036196e-03, -7.82404386e-04, -2.03516116e-04],\n",
       "        [-1.31541351e-03, -5.44213581e-05,  2.83000991e-03, ...,\n",
       "          4.27881256e-03, -9.45320760e-04, -1.18308511e-04]],\n",
       "\n",
       "       ...,\n",
       "\n",
       "       [[-2.27897035e-04, -3.34012700e-04,  2.81329121e-04, ...,\n",
       "          2.33594634e-04, -3.75970354e-04,  4.09709319e-04],\n",
       "        [-3.91469744e-04, -1.93235697e-04,  8.66081537e-05, ...,\n",
       "          3.58071091e-04, -3.25695117e-04,  2.47886841e-04],\n",
       "        [-7.99977104e-04, -3.90258123e-04, -2.30453315e-05, ...,\n",
       "          1.25606341e-04, -2.99562729e-04,  8.39402492e-05],\n",
       "        ...,\n",
       "        [-5.75086684e-04, -9.23715939e-04,  2.58237473e-03, ...,\n",
       "          3.74445249e-03, -9.26596927e-04, -3.54766467e-04],\n",
       "        [-7.28686573e-04, -9.02257860e-04,  2.87880935e-03, ...,\n",
       "          4.23437543e-03, -1.05365366e-03, -3.43010935e-04],\n",
       "        [-8.77162442e-04, -8.71187483e-04,  3.11402022e-03, ...,\n",
       "          4.64938022e-03, -1.17339531e-03, -3.06427974e-04]],\n",
       "\n",
       "       [[-2.27897035e-04, -3.34012700e-04,  2.81329121e-04, ...,\n",
       "          2.33594634e-04, -3.75970354e-04,  4.09709319e-04],\n",
       "        [-5.24162024e-04, -3.79985198e-04,  2.94728699e-04, ...,\n",
       "          5.80977765e-04, -3.97163793e-04,  7.21263059e-04],\n",
       "        [-8.58975633e-04, -3.43456166e-04,  3.69703223e-04, ...,\n",
       "          8.97730351e-04, -5.39757661e-04,  8.60651373e-04],\n",
       "        ...,\n",
       "        [-2.15311558e-03, -9.80513520e-04,  3.45578860e-03, ...,\n",
       "          5.78370364e-03, -1.69544236e-03,  8.30794626e-04],\n",
       "        [-2.16396572e-03, -8.96434241e-04,  3.45089007e-03, ...,\n",
       "          5.87283494e-03, -1.73044892e-03,  8.39934160e-04],\n",
       "        [-2.17245566e-03, -8.10688478e-04,  3.43517121e-03, ...,\n",
       "          5.93928294e-03, -1.75907311e-03,  8.55032878e-04]],\n",
       "\n",
       "       [[-2.27897035e-04, -3.34012700e-04,  2.81329121e-04, ...,\n",
       "          2.33594634e-04, -3.75970354e-04,  4.09709319e-04],\n",
       "        [-5.20160946e-04, -7.87244295e-04,  5.03397197e-04, ...,\n",
       "          2.95740640e-04, -7.70006271e-04,  6.92062720e-04],\n",
       "        [-5.93655161e-04, -1.30578724e-03,  3.46774439e-04, ...,\n",
       "          1.76159389e-04, -8.65302980e-04,  7.60806783e-04],\n",
       "        ...,\n",
       "        [-1.72293803e-03, -8.09101330e-04,  3.16560012e-03, ...,\n",
       "          4.68267454e-03, -1.40274432e-03,  7.73208449e-04],\n",
       "        [-1.80840585e-03, -7.99371570e-04,  3.24006332e-03, ...,\n",
       "          4.96297330e-03, -1.47914328e-03,  7.51817133e-04],\n",
       "        [-1.87990919e-03, -7.75111315e-04,  3.28776590e-03, ...,\n",
       "          5.19206887e-03, -1.54908595e-03,  7.45942700e-04]]],\n",
       "      dtype=float32)>"
      ]
     },
     "execution_count": 33,
     "metadata": {},
     "output_type": "execute_result"
    }
   ],
   "source": [
    "for src_sample, tgt_sample in dataset.take(1):\n",
    "    break\n",
    "    \n",
    "model(src_sample)"
   ]
  },
  {
   "cell_type": "markdown",
   "id": "98d475a6",
   "metadata": {},
   "source": [
    "output shape는 입력 시퀀스의 길이에 따라 달라진다."
   ]
  },
  {
   "cell_type": "code",
   "execution_count": 34,
   "id": "da033d0b",
   "metadata": {
    "scrolled": true
   },
   "outputs": [
    {
     "name": "stdout",
     "output_type": "stream",
     "text": [
      "Model: \"text_generator\"\n",
      "_________________________________________________________________\n",
      "Layer (type)                 Output Shape              Param #   \n",
      "=================================================================\n",
      "embedding (Embedding)        multiple                  1792256   \n",
      "_________________________________________________________________\n",
      "lstm (LSTM)                  multiple                  5246976   \n",
      "_________________________________________________________________\n",
      "lstm_1 (LSTM)                multiple                  8392704   \n",
      "_________________________________________________________________\n",
      "dense (Dense)                multiple                  7176025   \n",
      "=================================================================\n",
      "Total params: 22,607,961\n",
      "Trainable params: 22,607,961\n",
      "Non-trainable params: 0\n",
      "_________________________________________________________________\n"
     ]
    }
   ],
   "source": [
    "model.summary()"
   ]
  },
  {
   "cell_type": "code",
   "execution_count": 36,
   "id": "068041fd",
   "metadata": {},
   "outputs": [],
   "source": [
    "optimizer = tf.keras.optimizers.Adam()\n",
    "loss = tf.keras.losses.SparseCategoricalCrossentropy(\n",
    "    from_logits = True,\n",
    "    reduction = 'none'\n",
    ")"
   ]
  },
  {
   "cell_type": "code",
   "execution_count": 37,
   "id": "9282003b",
   "metadata": {},
   "outputs": [],
   "source": [
    "model.compile(loss = loss, optimizer = optimizer)"
   ]
  },
  {
   "cell_type": "code",
   "execution_count": 38,
   "id": "448fac0e",
   "metadata": {},
   "outputs": [
    {
     "name": "stdout",
     "output_type": "stream",
     "text": [
      "Epoch 1/30\n",
      "93/93 [==============================] - 22s 189ms/step - loss: 3.4646\n",
      "Epoch 2/30\n",
      "93/93 [==============================] - 18s 190ms/step - loss: 2.7976\n",
      "Epoch 3/30\n",
      "93/93 [==============================] - 17s 183ms/step - loss: 2.6876\n",
      "Epoch 4/30\n",
      "93/93 [==============================] - 17s 182ms/step - loss: 2.5897\n",
      "Epoch 5/30\n",
      "93/93 [==============================] - 17s 183ms/step - loss: 2.5293\n",
      "Epoch 6/30\n",
      "93/93 [==============================] - 17s 186ms/step - loss: 2.4763\n",
      "Epoch 7/30\n",
      "93/93 [==============================] - 17s 185ms/step - loss: 2.4185\n",
      "Epoch 8/30\n",
      "93/93 [==============================] - 17s 183ms/step - loss: 2.3657\n",
      "Epoch 9/30\n",
      "93/93 [==============================] - 17s 182ms/step - loss: 2.3148\n",
      "Epoch 10/30\n",
      "93/93 [==============================] - 17s 183ms/step - loss: 2.2680\n",
      "Epoch 11/30\n",
      "93/93 [==============================] - 17s 183ms/step - loss: 2.2179\n",
      "Epoch 12/30\n",
      "93/93 [==============================] - 17s 183ms/step - loss: 2.1689\n",
      "Epoch 13/30\n",
      "93/93 [==============================] - 17s 182ms/step - loss: 2.1213\n",
      "Epoch 14/30\n",
      "93/93 [==============================] - 17s 183ms/step - loss: 2.0723\n",
      "Epoch 15/30\n",
      "93/93 [==============================] - 17s 183ms/step - loss: 2.0251\n",
      "Epoch 16/30\n",
      "93/93 [==============================] - 17s 183ms/step - loss: 1.9757\n",
      "Epoch 17/30\n",
      "93/93 [==============================] - 17s 184ms/step - loss: 1.9243\n",
      "Epoch 18/30\n",
      "93/93 [==============================] - 17s 183ms/step - loss: 1.8743\n",
      "Epoch 19/30\n",
      "93/93 [==============================] - 17s 183ms/step - loss: 1.8245\n",
      "Epoch 20/30\n",
      "93/93 [==============================] - 17s 183ms/step - loss: 1.7750\n",
      "Epoch 21/30\n",
      "93/93 [==============================] - 17s 184ms/step - loss: 1.7258\n",
      "Epoch 22/30\n",
      "93/93 [==============================] - 17s 183ms/step - loss: 1.6734\n",
      "Epoch 23/30\n",
      "93/93 [==============================] - 17s 182ms/step - loss: 1.6224\n",
      "Epoch 24/30\n",
      "93/93 [==============================] - 17s 182ms/step - loss: 1.5728\n",
      "Epoch 25/30\n",
      "93/93 [==============================] - 17s 184ms/step - loss: 1.5219\n",
      "Epoch 26/30\n",
      "93/93 [==============================] - 17s 185ms/step - loss: 1.4707\n",
      "Epoch 27/30\n",
      "93/93 [==============================] - 17s 184ms/step - loss: 1.4202\n",
      "Epoch 28/30\n",
      "93/93 [==============================] - 17s 183ms/step - loss: 1.3673\n",
      "Epoch 29/30\n",
      "93/93 [==============================] - 17s 183ms/step - loss: 1.3171\n",
      "Epoch 30/30\n",
      "93/93 [==============================] - 17s 183ms/step - loss: 1.2642\n"
     ]
    },
    {
     "data": {
      "text/plain": [
       "<keras.callbacks.History at 0x7fcf3026e340>"
      ]
     },
     "execution_count": 38,
     "metadata": {},
     "output_type": "execute_result"
    }
   ],
   "source": [
    "model.fit(dataset, epochs = 30)"
   ]
  },
  {
   "cell_type": "code",
   "execution_count": 39,
   "id": "5e7a1c4a",
   "metadata": {},
   "outputs": [],
   "source": [
    "def generate_text(model, tokinizer, init_sentence = \"<start>\", max_len = 20):\n",
    "    test_input = tokenizer.texts_to_sequences([init_sentence])\n",
    "    test_tensor = tf.convert_to_tensor(test_input, dtype = tf.int64)\n",
    "    end_token = tokenizer.word_index[\"<end>\"]\n",
    "    \n",
    "    while True:\n",
    "        predict = model(test_tensor)\n",
    "        predict_word = tf.argmax(tf.nn.softmax(predict, axis = -1), axis = -1)[:,-1]\n",
    "        test_tensor = tf.concat([test_tensor, tf.expand_dims(predict_word, axis = 0)], axis = -1)\n",
    "        \n",
    "        if predict_word.numpy()[0] == end_token or test_tensor.shape[1] >= max_len:\n",
    "            break\n",
    "            \n",
    "    generated = \"\"\n",
    "    for word_index in test_tensor[0].numpy():\n",
    "        generated += tokenizer.index_word[word_index] + ' '\n",
    "        \n",
    "    return generated"
   ]
  },
  {
   "cell_type": "code",
   "execution_count": 40,
   "id": "25f5a242",
   "metadata": {},
   "outputs": [
    {
     "data": {
      "text/plain": [
       "'<start> he s a disease indeed , that you like a man . <end> '"
      ]
     },
     "execution_count": 40,
     "metadata": {},
     "output_type": "execute_result"
    }
   ],
   "source": [
    "generate_text(model, tokenizer, init_sentence=\"<start> he\")"
   ]
  },
  {
   "cell_type": "code",
   "execution_count": null,
   "id": "63df6208",
   "metadata": {},
   "outputs": [],
   "source": []
  }
 ],
 "metadata": {
  "kernelspec": {
   "display_name": "Python 3 (ipykernel)",
   "language": "python",
   "name": "python3"
  },
  "language_info": {
   "codemirror_mode": {
    "name": "ipython",
    "version": 3
   },
   "file_extension": ".py",
   "mimetype": "text/x-python",
   "name": "python",
   "nbconvert_exporter": "python",
   "pygments_lexer": "ipython3",
   "version": "3.9.7"
  }
 },
 "nbformat": 4,
 "nbformat_minor": 5
}
