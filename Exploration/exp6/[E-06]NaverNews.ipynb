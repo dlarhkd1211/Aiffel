{
 "cells": [
  {
   "cell_type": "code",
   "execution_count": 1,
   "id": "bc79b23a",
   "metadata": {},
   "outputs": [
    {
     "data": {
      "text/html": [
       "<div>\n",
       "<style scoped>\n",
       "    .dataframe tbody tr th:only-of-type {\n",
       "        vertical-align: middle;\n",
       "    }\n",
       "\n",
       "    .dataframe tbody tr th {\n",
       "        vertical-align: top;\n",
       "    }\n",
       "\n",
       "    .dataframe thead th {\n",
       "        text-align: right;\n",
       "    }\n",
       "</style>\n",
       "<table border=\"1\" class=\"dataframe\">\n",
       "  <thead>\n",
       "    <tr style=\"text-align: right;\">\n",
       "      <th></th>\n",
       "      <th>id</th>\n",
       "      <th>document</th>\n",
       "      <th>label</th>\n",
       "    </tr>\n",
       "  </thead>\n",
       "  <tbody>\n",
       "    <tr>\n",
       "      <th>0</th>\n",
       "      <td>9976970</td>\n",
       "      <td>아 더빙.. 진짜 짜증나네요 목소리</td>\n",
       "      <td>0</td>\n",
       "    </tr>\n",
       "    <tr>\n",
       "      <th>1</th>\n",
       "      <td>3819312</td>\n",
       "      <td>흠...포스터보고 초딩영화줄....오버연기조차 가볍지 않구나</td>\n",
       "      <td>1</td>\n",
       "    </tr>\n",
       "    <tr>\n",
       "      <th>2</th>\n",
       "      <td>10265843</td>\n",
       "      <td>너무재밓었다그래서보는것을추천한다</td>\n",
       "      <td>0</td>\n",
       "    </tr>\n",
       "    <tr>\n",
       "      <th>3</th>\n",
       "      <td>9045019</td>\n",
       "      <td>교도소 이야기구먼 ..솔직히 재미는 없다..평점 조정</td>\n",
       "      <td>0</td>\n",
       "    </tr>\n",
       "    <tr>\n",
       "      <th>4</th>\n",
       "      <td>6483659</td>\n",
       "      <td>사이몬페그의 익살스런 연기가 돋보였던 영화!스파이더맨에서 늙어보이기만 했던 커스틴 ...</td>\n",
       "      <td>1</td>\n",
       "    </tr>\n",
       "  </tbody>\n",
       "</table>\n",
       "</div>"
      ],
      "text/plain": [
       "         id                                           document  label\n",
       "0   9976970                                아 더빙.. 진짜 짜증나네요 목소리      0\n",
       "1   3819312                  흠...포스터보고 초딩영화줄....오버연기조차 가볍지 않구나      1\n",
       "2  10265843                                  너무재밓었다그래서보는것을추천한다      0\n",
       "3   9045019                      교도소 이야기구먼 ..솔직히 재미는 없다..평점 조정      0\n",
       "4   6483659  사이몬페그의 익살스런 연기가 돋보였던 영화!스파이더맨에서 늙어보이기만 했던 커스틴 ...      1"
      ]
     },
     "execution_count": 1,
     "metadata": {},
     "output_type": "execute_result"
    }
   ],
   "source": [
    "import pandas as pd\n",
    "\n",
    "train_data = pd.read_table('~/aiffel/exp6/data/ratings_train.txt')\n",
    "test_data = pd.read_table('~/aiffel/exp6/data/ratings_test.txt')\n",
    "\n",
    "train_data.head()"
   ]
  },
  {
   "cell_type": "code",
   "execution_count": 2,
   "id": "a8e8469a",
   "metadata": {},
   "outputs": [
    {
     "data": {
      "text/plain": [
       "0                                       아 더빙.. 진짜 짜증나네요 목소리\n",
       "1                         흠...포스터보고 초딩영화줄....오버연기조차 가볍지 않구나\n",
       "2                                         너무재밓었다그래서보는것을추천한다\n",
       "3                             교도소 이야기구먼 ..솔직히 재미는 없다..평점 조정\n",
       "4         사이몬페그의 익살스런 연기가 돋보였던 영화!스파이더맨에서 늙어보이기만 했던 커스틴 ...\n",
       "                                ...                        \n",
       "149995                                  인간이 문제지.. 소는 뭔죄인가..\n",
       "149996                                        평점이 너무 낮아서...\n",
       "149997                      이게 뭐요? 한국인은 거들먹거리고 필리핀 혼혈은 착하다?\n",
       "149998                          청춘 영화의 최고봉.방황과 우울했던 날들의 자화상\n",
       "149999                             한국 영화 최초로 수간하는 내용이 담긴 영화\n",
       "Name: document, Length: 150000, dtype: object"
      ]
     },
     "execution_count": 2,
     "metadata": {},
     "output_type": "execute_result"
    }
   ],
   "source": [
    "train_data['document']"
   ]
  },
  {
   "cell_type": "code",
   "execution_count": 3,
   "id": "d1436007",
   "metadata": {},
   "outputs": [],
   "source": [
    "from konlpy.tag import Mecab\n",
    "import numpy as np\n",
    "from collections import Counter"
   ]
  },
  {
   "cell_type": "code",
   "execution_count": 4,
   "id": "95e186a4",
   "metadata": {},
   "outputs": [],
   "source": [
    "tokenizer = Mecab()\n",
    "stopwords = ['의','가','이','은','들','는','좀','잘','걍','과','도','를','으로','자','에','와','한','하다']\n",
    "\n",
    "def load_data(train_data, test_data, num_words=8000):\n",
    "    train_data.drop_duplicates(subset=['document'], inplace=True)\n",
    "    train_data = train_data.dropna(how = 'any') \n",
    "    test_data.drop_duplicates(subset=['document'], inplace=True)\n",
    "    test_data = test_data.dropna(how = 'any') \n",
    "    \n",
    "    X_train = []\n",
    "    for sentence in train_data['document']:\n",
    "        temp_X = tokenizer.morphs(sentence) # 토큰화\n",
    "        temp_X = [word for word in temp_X if not word in stopwords]\n",
    "        X_train.append(temp_X)\n",
    "\n",
    "    X_test = []\n",
    "    for sentence in test_data['document']:\n",
    "        temp_X = tokenizer.morphs(sentence) # 토큰화\n",
    "        temp_X = [word for word in temp_X if not word in stopwords]\n",
    "        X_test.append(temp_X)\n",
    "    \n",
    "    words = np.concatenate(X_train).tolist()\n",
    "    counter = Counter(words)\n",
    "    counter = counter.most_common(8000-4)\n",
    "    vocab = ['', '', '', ''] + [key for key, _ in counter]\n",
    "    word_to_index = {word:index for index, word in enumerate(vocab)}\n",
    "        \n",
    "    def wordlist_to_indexlist(wordlist):\n",
    "        return [word_to_index[word] if word in word_to_index else word_to_index[''] for word in wordlist]\n",
    "        \n",
    "    X_train = list(map(wordlist_to_indexlist, X_train))\n",
    "    X_test = list(map(wordlist_to_indexlist, X_test))\n",
    "        \n",
    "    return X_train, np.array(list(train_data['label'])), X_test, np.array(list(test_data['label'])), word_to_index\n",
    "    \n",
    "X_train, y_train, X_test, y_test, word_to_index = load_data(train_data, test_data) "
   ]
  },
  {
   "cell_type": "code",
   "execution_count": 5,
   "id": "44a797dc",
   "metadata": {},
   "outputs": [
    {
     "name": "stdout",
     "output_type": "stream",
     "text": [
      "7997\n"
     ]
    }
   ],
   "source": [
    "print(len(word_to_index))"
   ]
  },
  {
   "cell_type": "code",
   "execution_count": 6,
   "id": "77281fca",
   "metadata": {},
   "outputs": [],
   "source": [
    "index_to_word = {index:word for word, index in word_to_index.items()}"
   ]
  },
  {
   "cell_type": "code",
   "execution_count": 7,
   "id": "04212e79",
   "metadata": {},
   "outputs": [],
   "source": [
    "# 문장 1개를 활용할 딕셔너리와 함께 주면, 단어 인덱스 리스트 벡터로 변환해 주는 함수입니다. \n",
    "# 단, 모든 문장은 <BOS>로 시작하는 것으로 합니다. \n",
    "def get_encoded_sentence(sentence, word_to_index):\n",
    "    return [word_to_index['<BOS>']]+[word_to_index[word] if word in word_to_index else word_to_index['<UNK>'] for word in sentence.split()]\n",
    "\n",
    "# 여러 개의 문장 리스트를 한꺼번에 단어 인덱스 리스트 벡터로 encode해 주는 함수입니다. \n",
    "def get_encoded_sentences(sentences, word_to_index):\n",
    "    return [get_encoded_sentence(sentence, word_to_index) for sentence in sentences]\n",
    "\n",
    "# 숫자 벡터로 encode된 문장을 원래대로 decode하는 함수입니다. \n",
    "def get_decoded_sentence(encoded_sentence, index_to_word):\n",
    "    return ' '.join(index_to_word[index] if index in index_to_word else '<UNK>' for index in encoded_sentence[1:])  #[1:]를 통해 <BOS>를 제외\n",
    "\n",
    "# 여러 개의 숫자 벡터로 encode된 문장을 한꺼번에 원래대로 decode하는 함수입니다. \n",
    "def get_decoded_sentences(encoded_sentences, index_to_word):\n",
    "    return [get_decoded_sentence(encoded_sentence, index_to_word) for encoded_sentence in encoded_sentences]"
   ]
  },
  {
   "cell_type": "code",
   "execution_count": 8,
   "id": "408d8f33",
   "metadata": {},
   "outputs": [
    {
     "name": "stdout",
     "output_type": "stream",
     "text": [
      "문장길이 평균 :  15.96940191154864\n",
      "문장길이 최대 :  116\n",
      "문장길이 표준편차 :  12.843571191092\n"
     ]
    }
   ],
   "source": [
    "total_data_text = list(X_train) + list(X_test)\n",
    "num_tokens = [len(tokens) for tokens in total_data_text]\n",
    "num_tokens = np.array(num_tokens)\n",
    "print('문장길이 평균 : ', np.mean(num_tokens))\n",
    "print('문장길이 최대 : ', np.max(num_tokens))\n",
    "print('문장길이 표준편차 : ', np.std(num_tokens))\n"
   ]
  },
  {
   "cell_type": "code",
   "execution_count": 9,
   "id": "c6ffca37",
   "metadata": {},
   "outputs": [
    {
     "name": "stdout",
     "output_type": "stream",
     "text": [
      "pad_sequences maxlen :  41\n",
      "전체 문장의 0.9342988343341575%가 maxlen 설정값 이내에 포함됩니다. \n"
     ]
    }
   ],
   "source": [
    "max_tokens = np.mean(num_tokens) + 2 * np.std(num_tokens)\n",
    "maxlen = int(max_tokens)\n",
    "print('pad_sequences maxlen : ', maxlen)\n",
    "print('전체 문장의 {}%가 maxlen 설정값 이내에 포함됩니다. '.format(np.sum(num_tokens < max_tokens) / len(num_tokens)))"
   ]
  },
  {
   "cell_type": "code",
   "execution_count": 10,
   "id": "d3fa1559",
   "metadata": {},
   "outputs": [],
   "source": [
    "import tensorflow as tf\n",
    "from tensorflow.keras import Sequential\n",
    "from tensorflow.keras.layers import *\n",
    "from tensorflow.keras.preprocessing.sequence import pad_sequences"
   ]
  },
  {
   "cell_type": "code",
   "execution_count": 11,
   "id": "811ea292",
   "metadata": {},
   "outputs": [],
   "source": [
    "word_to_index = {k:(v+3) for k, v in word_to_index.items()}\n",
    "\n",
    "word_to_index['<PAD>'] = 0\n",
    "word_to_index['<BOS>'] = 1\n",
    "word_to_index['<UNK>'] = 2\n",
    "word_to_index['<UNUSED>'] = 3"
   ]
  },
  {
   "cell_type": "code",
   "execution_count": 12,
   "id": "d9251227",
   "metadata": {},
   "outputs": [
    {
     "name": "stdout",
     "output_type": "stream",
     "text": [
      "8001\n"
     ]
    }
   ],
   "source": [
    "print(len(word_to_index))"
   ]
  },
  {
   "cell_type": "code",
   "execution_count": 13,
   "id": "33beedf2",
   "metadata": {},
   "outputs": [],
   "source": [
    "vocab_size = 8000\n",
    "word_vector_dim = 16\n",
    "\n",
    "X_train = tf.keras.preprocessing.sequence.pad_sequences(X_train,\n",
    "                                                        value=word_to_index[\"<PAD>\"],\n",
    "                                                        padding='pre',\n",
    "                                                        maxlen=maxlen)\n",
    "\n",
    "X_test = tf.keras.preprocessing.sequence.pad_sequences(X_test,\n",
    "                                                       value=word_to_index[\"<PAD>\"],\n",
    "                                                       padding='pre',\n",
    "                                                       maxlen=maxlen)"
   ]
  },
  {
   "cell_type": "code",
   "execution_count": 14,
   "id": "a466dc42",
   "metadata": {},
   "outputs": [
    {
     "name": "stdout",
     "output_type": "stream",
     "text": [
      "(146182, 41)\n"
     ]
    }
   ],
   "source": [
    "print(X_train.shape)"
   ]
  },
  {
   "cell_type": "code",
   "execution_count": 15,
   "id": "ec4b4530",
   "metadata": {},
   "outputs": [
    {
     "name": "stdout",
     "output_type": "stream",
     "text": [
      "(26182, 41)\n",
      "(26182,)\n"
     ]
    }
   ],
   "source": [
    "x_val = X_train[:120000]   \n",
    "y_val = y_train[:120000]\n",
    "\n",
    "partial_x_train = X_train[120000:]  \n",
    "partial_y_train = y_train[120000:]\n",
    "\n",
    "print(partial_x_train.shape)\n",
    "print(partial_y_train.shape)"
   ]
  },
  {
   "cell_type": "code",
   "execution_count": 16,
   "id": "32ebbda8",
   "metadata": {},
   "outputs": [
    {
     "name": "stdout",
     "output_type": "stream",
     "text": [
      "Model: \"sequential\"\n",
      "_________________________________________________________________\n",
      "Layer (type)                 Output Shape              Param #   \n",
      "=================================================================\n",
      "embedding (Embedding)        (None, None, 16)          128000    \n",
      "_________________________________________________________________\n",
      "lstm (LSTM)                  (None, 16)                2112      \n",
      "_________________________________________________________________\n",
      "dense (Dense)                (None, 32)                544       \n",
      "_________________________________________________________________\n",
      "dense_1 (Dense)              (None, 1)                 33        \n",
      "=================================================================\n",
      "Total params: 130,689\n",
      "Trainable params: 130,689\n",
      "Non-trainable params: 0\n",
      "_________________________________________________________________\n"
     ]
    }
   ],
   "source": [
    "model1 = Sequential()\n",
    "model1.add(Embedding(vocab_size, word_vector_dim, input_shape = (None,)))\n",
    "model1.add(LSTM(16))\n",
    "model1.add(Dense(32, activation = 'relu'))\n",
    "model1.add(Dense(1, activation = 'sigmoid'))\n",
    "\n",
    "model1.summary()"
   ]
  },
  {
   "cell_type": "code",
   "execution_count": 17,
   "id": "780d0b35",
   "metadata": {},
   "outputs": [
    {
     "name": "stdout",
     "output_type": "stream",
     "text": [
      "Model: \"sequential_1\"\n",
      "_________________________________________________________________\n",
      "Layer (type)                 Output Shape              Param #   \n",
      "=================================================================\n",
      "embedding_1 (Embedding)      (None, None, 16)          128000    \n",
      "_________________________________________________________________\n",
      "conv1d (Conv1D)              (None, None, 64)          7232      \n",
      "_________________________________________________________________\n",
      "max_pooling1d (MaxPooling1D) (None, None, 64)          0         \n",
      "_________________________________________________________________\n",
      "conv1d_1 (Conv1D)            (None, None, 16)          7184      \n",
      "_________________________________________________________________\n",
      "global_max_pooling1d (Global (None, 16)                0         \n",
      "_________________________________________________________________\n",
      "dense_2 (Dense)              (None, 8)                 136       \n",
      "_________________________________________________________________\n",
      "dense_3 (Dense)              (None, 1)                 9         \n",
      "=================================================================\n",
      "Total params: 142,561\n",
      "Trainable params: 142,561\n",
      "Non-trainable params: 0\n",
      "_________________________________________________________________\n"
     ]
    }
   ],
   "source": [
    "model2 = Sequential()\n",
    "model2.add(Embedding(vocab_size, word_vector_dim, input_shape = (None,)))\n",
    "model2.add(Conv1D(64, 7, activation = 'relu'))\n",
    "model2.add(MaxPooling1D(5))\n",
    "model2.add(Conv1D(16, 7, activation = 'relu'))\n",
    "model2.add(GlobalMaxPooling1D())\n",
    "model2.add(Dense(8, activation = 'relu'))\n",
    "model2.add(Dense(1, activation = 'sigmoid'))\n",
    "\n",
    "model2.summary()"
   ]
  },
  {
   "cell_type": "code",
   "execution_count": 18,
   "id": "e28675df",
   "metadata": {},
   "outputs": [
    {
     "name": "stdout",
     "output_type": "stream",
     "text": [
      "Model: \"sequential_2\"\n",
      "_________________________________________________________________\n",
      "Layer (type)                 Output Shape              Param #   \n",
      "=================================================================\n",
      "embedding_2 (Embedding)      (None, None, 16)          128000    \n",
      "_________________________________________________________________\n",
      "global_max_pooling1d_1 (Glob (None, 16)                0         \n",
      "_________________________________________________________________\n",
      "dense_4 (Dense)              (None, 16)                272       \n",
      "_________________________________________________________________\n",
      "dense_5 (Dense)              (None, 1)                 17        \n",
      "=================================================================\n",
      "Total params: 128,289\n",
      "Trainable params: 128,289\n",
      "Non-trainable params: 0\n",
      "_________________________________________________________________\n"
     ]
    }
   ],
   "source": [
    "model3 = tf.keras.Sequential()\n",
    "model3.add(tf.keras.layers.Embedding(vocab_size, word_vector_dim, input_shape=(None,)))\n",
    "model3.add(tf.keras.layers.GlobalMaxPooling1D())\n",
    "model3.add(tf.keras.layers.Dense(16, activation='relu'))\n",
    "model3.add(tf.keras.layers.Dense(1, activation='sigmoid'))  \n",
    "\n",
    "model3.summary()"
   ]
  },
  {
   "cell_type": "code",
   "execution_count": 19,
   "id": "1437e9f2",
   "metadata": {},
   "outputs": [],
   "source": [
    "epochs=10"
   ]
  },
  {
   "cell_type": "code",
   "execution_count": 20,
   "id": "65c06b74",
   "metadata": {},
   "outputs": [],
   "source": [
    "model1.compile(optimizer='adam',\n",
    "              loss='binary_crossentropy',\n",
    "              metrics=['accuracy'])\n",
    "model2.compile(optimizer='adam',\n",
    "              loss='binary_crossentropy',\n",
    "              metrics=['accuracy'])\n",
    "model3.compile(optimizer='adam',\n",
    "              loss='binary_crossentropy',\n",
    "              metrics=['accuracy'])"
   ]
  },
  {
   "cell_type": "code",
   "execution_count": 21,
   "id": "38f7cd5f",
   "metadata": {},
   "outputs": [
    {
     "name": "stdout",
     "output_type": "stream",
     "text": [
      "Epoch 1/10\n",
      "103/103 [==============================] - 5s 18ms/step - loss: 0.5971 - accuracy: 0.7112 - val_loss: 0.4405 - val_accuracy: 0.8083\n",
      "Epoch 2/10\n",
      "103/103 [==============================] - 1s 14ms/step - loss: 0.3715 - accuracy: 0.8417 - val_loss: 0.3857 - val_accuracy: 0.8307\n",
      "Epoch 3/10\n",
      "103/103 [==============================] - 1s 14ms/step - loss: 0.3104 - accuracy: 0.8732 - val_loss: 0.3900 - val_accuracy: 0.8313\n",
      "Epoch 4/10\n",
      "103/103 [==============================] - 1s 14ms/step - loss: 0.2777 - accuracy: 0.8898 - val_loss: 0.4072 - val_accuracy: 0.8278\n",
      "Epoch 5/10\n",
      "103/103 [==============================] - 2s 15ms/step - loss: 0.2562 - accuracy: 0.9000 - val_loss: 0.4276 - val_accuracy: 0.8208\n",
      "Epoch 6/10\n",
      "103/103 [==============================] - 1s 14ms/step - loss: 0.2359 - accuracy: 0.9104 - val_loss: 0.4725 - val_accuracy: 0.8163\n",
      "Epoch 7/10\n",
      "103/103 [==============================] - 1s 14ms/step - loss: 0.2219 - accuracy: 0.9159 - val_loss: 0.4680 - val_accuracy: 0.8182\n",
      "Epoch 8/10\n",
      "103/103 [==============================] - 1s 14ms/step - loss: 0.2044 - accuracy: 0.9237 - val_loss: 0.4974 - val_accuracy: 0.8137\n",
      "Epoch 9/10\n",
      "103/103 [==============================] - 1s 14ms/step - loss: 0.1948 - accuracy: 0.9281 - val_loss: 0.5160 - val_accuracy: 0.8121\n",
      "Epoch 10/10\n",
      "103/103 [==============================] - 1s 14ms/step - loss: 0.1795 - accuracy: 0.9337 - val_loss: 0.5597 - val_accuracy: 0.8086\n"
     ]
    }
   ],
   "source": [
    "history1 = model1.fit(partial_x_train,\n",
    "                    partial_y_train,\n",
    "                    epochs=epochs,\n",
    "                    batch_size=256,\n",
    "                    validation_data=(x_val, y_val),\n",
    "                    verbose=1)"
   ]
  },
  {
   "cell_type": "code",
   "execution_count": 22,
   "id": "3c476fff",
   "metadata": {},
   "outputs": [
    {
     "name": "stdout",
     "output_type": "stream",
     "text": [
      "Epoch 1/10\n",
      "205/205 [==============================] - 4s 14ms/step - loss: 0.5849 - accuracy: 0.6587 - val_loss: 0.4056 - val_accuracy: 0.8166\n",
      "Epoch 2/10\n",
      "205/205 [==============================] - 3s 12ms/step - loss: 0.3494 - accuracy: 0.8492 - val_loss: 0.3798 - val_accuracy: 0.8312\n",
      "Epoch 3/10\n",
      "205/205 [==============================] - 2s 12ms/step - loss: 0.2857 - accuracy: 0.8836 - val_loss: 0.3974 - val_accuracy: 0.8285\n",
      "Epoch 4/10\n",
      "205/205 [==============================] - 3s 12ms/step - loss: 0.2394 - accuracy: 0.9058 - val_loss: 0.4275 - val_accuracy: 0.8243\n",
      "Epoch 5/10\n",
      "205/205 [==============================] - 3s 13ms/step - loss: 0.1951 - accuracy: 0.9261 - val_loss: 0.4754 - val_accuracy: 0.8206\n",
      "Epoch 6/10\n",
      "205/205 [==============================] - 3s 12ms/step - loss: 0.1487 - accuracy: 0.9471 - val_loss: 0.5307 - val_accuracy: 0.8150\n",
      "Epoch 7/10\n",
      "205/205 [==============================] - 3s 12ms/step - loss: 0.1071 - accuracy: 0.9635 - val_loss: 0.6232 - val_accuracy: 0.8110\n",
      "Epoch 8/10\n",
      "205/205 [==============================] - 3s 12ms/step - loss: 0.0750 - accuracy: 0.9774 - val_loss: 0.6847 - val_accuracy: 0.8074\n",
      "Epoch 9/10\n",
      "205/205 [==============================] - 3s 13ms/step - loss: 0.0534 - accuracy: 0.9840 - val_loss: 0.7911 - val_accuracy: 0.8058\n",
      "Epoch 10/10\n",
      "205/205 [==============================] - 3s 12ms/step - loss: 0.0394 - accuracy: 0.9883 - val_loss: 0.8976 - val_accuracy: 0.8015\n"
     ]
    }
   ],
   "source": [
    "history2 = model2.fit(partial_x_train,\n",
    "                    partial_y_train,\n",
    "                    epochs=epochs,\n",
    "                    batch_size=128,\n",
    "                    validation_data=(x_val, y_val),\n",
    "                    verbose=1)"
   ]
  },
  {
   "cell_type": "code",
   "execution_count": 23,
   "id": "25153400",
   "metadata": {},
   "outputs": [
    {
     "name": "stdout",
     "output_type": "stream",
     "text": [
      "Epoch 1/10\n",
      "103/103 [==============================] - 1s 10ms/step - loss: 0.6755 - accuracy: 0.6673 - val_loss: 0.6385 - val_accuracy: 0.7306\n",
      "Epoch 2/10\n",
      "103/103 [==============================] - 1s 9ms/step - loss: 0.5561 - accuracy: 0.7891 - val_loss: 0.4859 - val_accuracy: 0.8001\n",
      "Epoch 3/10\n",
      "103/103 [==============================] - 1s 9ms/step - loss: 0.4127 - accuracy: 0.8390 - val_loss: 0.4118 - val_accuracy: 0.8178\n",
      "Epoch 4/10\n",
      "103/103 [==============================] - 1s 9ms/step - loss: 0.3343 - accuracy: 0.8662 - val_loss: 0.3924 - val_accuracy: 0.8237\n",
      "Epoch 5/10\n",
      "103/103 [==============================] - 1s 9ms/step - loss: 0.2862 - accuracy: 0.8881 - val_loss: 0.3896 - val_accuracy: 0.8256\n",
      "Epoch 6/10\n",
      "103/103 [==============================] - 1s 9ms/step - loss: 0.2503 - accuracy: 0.9036 - val_loss: 0.3955 - val_accuracy: 0.8269\n",
      "Epoch 7/10\n",
      "103/103 [==============================] - 1s 9ms/step - loss: 0.2204 - accuracy: 0.9157 - val_loss: 0.4082 - val_accuracy: 0.8259\n",
      "Epoch 8/10\n",
      "103/103 [==============================] - 1s 9ms/step - loss: 0.1947 - accuracy: 0.9282 - val_loss: 0.4231 - val_accuracy: 0.8247\n",
      "Epoch 9/10\n",
      "103/103 [==============================] - 1s 9ms/step - loss: 0.1726 - accuracy: 0.9382 - val_loss: 0.4401 - val_accuracy: 0.8226\n",
      "Epoch 10/10\n",
      "103/103 [==============================] - 1s 9ms/step - loss: 0.1532 - accuracy: 0.9465 - val_loss: 0.4603 - val_accuracy: 0.8202\n"
     ]
    }
   ],
   "source": [
    "history3 = model3.fit(partial_x_train,\n",
    "                    partial_y_train,\n",
    "                    epochs=epochs,\n",
    "                    batch_size=256,\n",
    "                    validation_data=(x_val, y_val),\n",
    "                    verbose=1)"
   ]
  },
  {
   "cell_type": "code",
   "execution_count": 24,
   "id": "5096cf1a",
   "metadata": {},
   "outputs": [
    {
     "name": "stdout",
     "output_type": "stream",
     "text": [
      "1537/1537 - 3s - loss: 0.5632 - accuracy: 0.8055\n",
      "[0.5632461905479431, 0.8054600358009338]\n"
     ]
    }
   ],
   "source": [
    "results1 = model1.evaluate(X_test,  y_test, verbose=2)\n",
    "\n",
    "print(results1)"
   ]
  },
  {
   "cell_type": "code",
   "execution_count": 25,
   "id": "bc54d143",
   "metadata": {},
   "outputs": [
    {
     "name": "stdout",
     "output_type": "stream",
     "text": [
      "1537/1537 - 3s - loss: 0.9091 - accuracy: 0.7982\n",
      "[0.5632461905479431, 0.8054600358009338]\n"
     ]
    }
   ],
   "source": [
    "results2 = model2.evaluate(X_test,  y_test, verbose=2)\n",
    "\n",
    "print(results1)"
   ]
  },
  {
   "cell_type": "code",
   "execution_count": 26,
   "id": "14c36697",
   "metadata": {},
   "outputs": [
    {
     "name": "stdout",
     "output_type": "stream",
     "text": [
      "1537/1537 - 2s - loss: 0.4673 - accuracy: 0.8180\n",
      "[0.5632461905479431, 0.8054600358009338]\n"
     ]
    }
   ],
   "source": [
    "results3 = model3.evaluate(X_test,  y_test, verbose=2)\n",
    "\n",
    "print(results1)"
   ]
  },
  {
   "cell_type": "code",
   "execution_count": 27,
   "id": "9b7d13f7",
   "metadata": {},
   "outputs": [],
   "source": [
    "history_dict1 = history1.history\n",
    "history_dict2 = history2.history\n",
    "history_dict3 = history3.history"
   ]
  },
  {
   "cell_type": "code",
   "execution_count": 28,
   "id": "d462c15d",
   "metadata": {},
   "outputs": [
    {
     "data": {
      "image/png": "[encoded data removed]",
      "text/plain": [
       "<Figure size 432x288 with 1 Axes>"
      ]
     },
     "metadata": {
      "needs_background": "light"
     },
     "output_type": "display_data"
    }
   ],
   "source": [
    "import matplotlib.pyplot as plt\n",
    "\n",
    "acc = history_dict1['accuracy']\n",
    "val_acc = history_dict1['val_accuracy']\n",
    "loss = history_dict1['loss']\n",
    "val_loss = history_dict1['val_loss']\n",
    "\n",
    "epochs = range(1, len(acc) + 1)\n",
    "\n",
    "plt.plot(epochs, loss, 'bo', label='Training loss')\n",
    "plt.plot(epochs, val_loss, 'b', label='Validation loss')\n",
    "plt.title('Training and validation loss')\n",
    "plt.xlabel('Epochs')\n",
    "plt.ylabel('Loss')\n",
    "plt.legend()\n",
    "\n",
    "plt.show()"
   ]
  },
  {
   "cell_type": "code",
   "execution_count": 29,
   "id": "74ec1c25",
   "metadata": {},
   "outputs": [
    {
     "data": {
      "image/png": "[encoded data removed]",
      "text/plain": [
       "<Figure size 432x288 with 1 Axes>"
      ]
     },
     "metadata": {
      "needs_background": "light"
     },
     "output_type": "display_data"
    }
   ],
   "source": [
    "import matplotlib.pyplot as plt\n",
    "\n",
    "acc = history_dict2['accuracy']\n",
    "val_acc = history_dict2['val_accuracy']\n",
    "loss = history_dict2['loss']\n",
    "val_loss = history_dict2['val_loss']\n",
    "\n",
    "epochs = range(1, len(acc) + 1)\n",
    "\n",
    "plt.plot(epochs, loss, 'bo', label='Training loss')\n",
    "plt.plot(epochs, val_loss, 'b', label='Validation loss')\n",
    "plt.title('Training and validation loss')\n",
    "plt.xlabel('Epochs')\n",
    "plt.ylabel('Loss')\n",
    "plt.legend()\n",
    "\n",
    "plt.show()"
   ]
  },
  {
   "cell_type": "code",
   "execution_count": 30,
   "id": "882c54b8",
   "metadata": {},
   "outputs": [
    {
     "data": {
      "image/png": "[encoded data removed]",
      "text/plain": [
       "<Figure size 432x288 with 1 Axes>"
      ]
     },
     "metadata": {
      "needs_background": "light"
     },
     "output_type": "display_data"
    }
   ],
   "source": [
    "import matplotlib.pyplot as plt\n",
    "\n",
    "acc = history_dict3['accuracy']\n",
    "val_acc = history_dict3['val_accuracy']\n",
    "loss = history_dict3['loss']\n",
    "val_loss = history_dict3['val_loss']\n",
    "\n",
    "epochs = range(1, len(acc) + 1)\n",
    "\n",
    "plt.plot(epochs, loss, 'bo', label='Training loss')\n",
    "plt.plot(epochs, val_loss, 'b', label='Validation loss')\n",
    "plt.title('Training and validation loss')\n",
    "plt.xlabel('Epochs')\n",
    "plt.ylabel('Loss')\n",
    "plt.legend()\n",
    "\n",
    "plt.show()"
   ]
  },
  {
   "cell_type": "code",
   "execution_count": 31,
   "id": "a0067593",
   "metadata": {},
   "outputs": [
    {
     "data": {
      "image/png": "[encoded data removed]",
      "text/plain": [
       "<Figure size 432x288 with 1 Axes>"
      ]
     },
     "metadata": {
      "needs_background": "light"
     },
     "output_type": "display_data"
    }
   ],
   "source": [
    "plt.clf()\n",
    "\n",
    "plt.plot(epochs, acc, 'bo', label='Training acc')\n",
    "plt.plot(epochs, val_acc, 'b', label='Validation acc')\n",
    "plt.title('Training and validation accuracy')\n",
    "plt.xlabel('Epochs')\n",
    "plt.ylabel('Accuracy')\n",
    "plt.legend()\n",
    "\n",
    "plt.show()"
   ]
  },
  {
   "cell_type": "markdown",
   "id": "1663f1e4",
   "metadata": {},
   "source": [
    "## Embedding\n"
   ]
  },
  {
   "cell_type": "code",
   "execution_count": 32,
   "id": "866bfce3",
   "metadata": {},
   "outputs": [
    {
     "name": "stdout",
     "output_type": "stream",
     "text": [
      "(8000, 16)\n"
     ]
    }
   ],
   "source": [
    "embedding_layer = model3.layers[0]\n",
    "weights = embedding_layer.get_weights()[0]\n",
    "print(weights.shape)"
   ]
  },
  {
   "cell_type": "code",
   "execution_count": 33,
   "id": "8c1d1ed2",
   "metadata": {},
   "outputs": [
    {
     "data": {
      "text/plain": [
       "8"
      ]
     },
     "execution_count": 33,
     "metadata": {},
     "output_type": "execute_result"
    }
   ],
   "source": [
    "word2vec_file_path = './data/word2vec_naver.txt'\n",
    "f = open(word2vec_file_path, 'w')\n",
    "f.write('{} {}\\n'.format(vocab_size-4, word_vector_dim))"
   ]
  },
  {
   "cell_type": "code",
   "execution_count": 34,
   "id": "ffd01092",
   "metadata": {},
   "outputs": [],
   "source": [
    "vectors = model3.get_weights()[0]"
   ]
  },
  {
   "cell_type": "code",
   "execution_count": 35,
   "id": "2f23b91b",
   "metadata": {},
   "outputs": [
    {
     "name": "stdout",
     "output_type": "stream",
     "text": [
      "8000\n",
      "8000\n"
     ]
    },
    {
     "data": {
      "text/plain": [
       "(None, None)"
      ]
     },
     "execution_count": 35,
     "metadata": {},
     "output_type": "execute_result"
    }
   ],
   "source": [
    "print(len(vectors)), print(vocab_size)"
   ]
  },
  {
   "cell_type": "code",
   "execution_count": 36,
   "id": "cd74594c",
   "metadata": {},
   "outputs": [
    {
     "data": {
      "text/plain": [
       "<function TextIOWrapper.close()>"
      ]
     },
     "execution_count": 36,
     "metadata": {},
     "output_type": "execute_result"
    }
   ],
   "source": [
    "for i in range(4, vocab_size):\n",
    "    f.write('{} {}\\n'.format(index_to_word[i], ' '.join(map(str, list(vectors[i,:])))))\n",
    "f.close"
   ]
  },
  {
   "cell_type": "code",
   "execution_count": 38,
   "id": "97a5f8a8",
   "metadata": {},
   "outputs": [],
   "source": [
    "from gensim.models.keyedvectors import Word2VecKeyedVectors\n",
    "\n",
    "word_vectors = Word2VecKeyedVectors.load_word2vec_format(word2vec_file_path, binary=False)"
   ]
  },
  {
   "cell_type": "code",
   "execution_count": 39,
   "id": "89220dab",
   "metadata": {},
   "outputs": [
    {
     "data": {
      "text/plain": [
       "[('우디', 0.8922555446624756),\n",
       " ('스콧', 0.8737590312957764),\n",
       " ('이기심', 0.8726831674575806),\n",
       " ('훈', 0.8720892667770386),\n",
       " ('탁', 0.8672592639923096),\n",
       " ('울림', 0.8590622544288635),\n",
       " ('~~^^', 0.8528720140457153),\n",
       " ('정점', 0.8440269231796265),\n",
       " ('고대', 0.8411500453948975),\n",
       " ('정주', 0.8401355743408203)]"
      ]
     },
     "execution_count": 39,
     "metadata": {},
     "output_type": "execute_result"
    }
   ],
   "source": [
    "word_vectors.similar_by_word(\"이쁨\")"
   ]
  },
  {
   "cell_type": "markdown",
   "id": "96b36251",
   "metadata": {},
   "source": [
    "# 한국어 Word2Vec 임베딩 활용하여 성능개선"
   ]
  },
  {
   "cell_type": "code",
   "execution_count": 40,
   "id": "e5b67529",
   "metadata": {},
   "outputs": [
    {
     "data": {
      "text/plain": [
       "'3.8.1'"
      ]
     },
     "execution_count": 40,
     "metadata": {},
     "output_type": "execute_result"
    }
   ],
   "source": [
    "import gensim\n",
    "gensim.__version__"
   ]
  },
  {
   "cell_type": "code",
   "execution_count": 41,
   "id": "8839b925",
   "metadata": {},
   "outputs": [
    {
     "name": "stderr",
     "output_type": "stream",
     "text": [
      "/tmp/ipykernel_3404/3673978347.py:4: DeprecationWarning: Call to deprecated `__getitem__` (Method will be removed in 4.0.0, use self.wv.__getitem__() instead).\n",
      "  vector = word2vec['영화']\n"
     ]
    },
    {
     "data": {
      "text/plain": [
       "array([-1.7577837 , -1.0874279 ,  1.5300866 , -0.1115231 , -0.37980682,\n",
       "        1.4828517 ,  1.3180419 ,  0.11094163,  0.7430535 , -0.45461136,\n",
       "        0.58841336,  0.5763913 ,  1.210707  ,  1.3132795 , -0.86962503,\n",
       "       -0.18507595, -0.47440064,  1.5100725 ,  1.0965794 ,  1.0600823 ,\n",
       "       -0.27457932, -0.70003706,  2.3117511 ,  1.4944884 ,  0.25560892,\n",
       "       -2.866659  , -0.28312334,  0.34263936, -0.67723423,  0.71714777,\n",
       "        0.25549442,  0.71732044, -0.13262457,  0.01792452, -0.3184774 ,\n",
       "        0.5271619 ,  0.7561084 , -2.1247065 ,  1.061429  , -0.21065854,\n",
       "        0.6877343 , -1.4956383 ,  0.60346967, -2.6955893 ,  0.37694618,\n",
       "       -1.0164185 ,  0.5430663 ,  0.1200121 , -2.6315718 ,  0.6216742 ,\n",
       "        1.1583976 , -2.5385962 ,  1.326312  , -0.10284371, -0.0286147 ,\n",
       "       -0.9132947 ,  0.7647564 ,  0.79202783, -1.8625957 , -0.7418395 ,\n",
       "        0.5884277 , -0.9917992 , -0.62114453,  1.5367815 , -0.6628939 ,\n",
       "        0.6712103 ,  0.12914915,  0.21228492,  0.9017655 , -0.25083402,\n",
       "        0.71500814,  0.08644514,  0.59993285,  0.5766137 ,  0.64095974,\n",
       "        0.47888306, -2.8426213 , -2.8502681 , -0.140544  , -1.5917364 ,\n",
       "        0.26691505,  0.59476066,  0.85868204,  1.0322351 ,  0.25671318,\n",
       "       -0.34831643,  1.752927  , -0.21967097, -0.77352476,  1.6995213 ,\n",
       "        1.3996491 , -0.9419836 ,  0.85996443, -1.8812876 , -2.5428605 ,\n",
       "        0.39351937, -1.2882805 ,  0.56548136,  1.006273  ,  1.2217585 ,\n",
       "        3.5744793 ,  1.717737  ,  1.6917158 , -2.2176905 , -0.3167447 ,\n",
       "        1.2449    , -1.255284  , -2.1539652 , -1.096709  , -0.74976933,\n",
       "       -0.16744931, -1.8507233 ,  2.1861036 , -0.05389732,  1.038033  ,\n",
       "        0.33730686, -1.4647075 , -1.264041  ,  0.25509247,  0.0622906 ,\n",
       "        0.27852032, -0.52661455,  0.8529616 ,  0.58257025, -0.57665855,\n",
       "        1.3990631 ,  0.28237963,  1.6566037 ,  1.9912103 ,  0.63888913,\n",
       "        0.7732426 , -1.3757724 ,  0.17209321, -0.2433672 ,  0.6328291 ,\n",
       "        1.486971  ,  2.3435354 , -1.7037928 ,  3.1944559 , -1.9049606 ,\n",
       "       -0.51309574,  0.79082954, -1.4480313 , -0.68631476,  0.62008876,\n",
       "       -2.3400223 , -0.5785594 ,  0.5270694 ,  3.0061607 , -1.3661511 ,\n",
       "       -2.7953272 , -1.1794031 , -0.27734265,  0.71130925, -0.06620383,\n",
       "        0.33663416,  0.7204997 , -0.923218  , -2.1603265 , -0.8904896 ,\n",
       "       -1.4137112 , -0.4189144 ,  0.42834592,  1.8104875 , -1.8274456 ,\n",
       "       -0.26700613,  0.7743727 ,  0.80048114,  1.1333636 ,  3.2746978 ,\n",
       "       -0.0188297 ,  0.9245737 , -0.1246058 , -0.5802861 , -0.01926111,\n",
       "        1.05892   , -1.4247856 ,  1.0689156 ,  2.5728712 , -1.294882  ,\n",
       "        0.74771804,  1.3066916 , -1.3213431 ,  1.6501019 , -0.12401557,\n",
       "        0.96340084,  0.26050946,  1.3826336 , -0.02877662,  2.3431563 ,\n",
       "       -0.26337367,  1.9162012 , -0.77454543,  1.7392642 ,  0.08038983,\n",
       "       -0.60325927,  0.29508227,  0.4812675 ,  0.5271086 ,  0.94171894],\n",
       "      dtype=float32)"
      ]
     },
     "execution_count": 41,
     "metadata": {},
     "output_type": "execute_result"
    }
   ],
   "source": [
    "from gensim.models import KeyedVectors\n",
    "word2vec_path = './ko.bin'\n",
    "word2vec = gensim.models.Word2Vec.load(word2vec_path)\n",
    "vector = word2vec['영화']\n",
    "vector     "
   ]
  },
  {
   "cell_type": "code",
   "execution_count": 51,
   "id": "adaaf616",
   "metadata": {},
   "outputs": [],
   "source": [
    "vocab_size = len(word_vectors.vocab)\n",
    "word_vector_dim = 200\n",
    "embedding_matrix = np.random.rand(vocab_size, word_vector_dim)"
   ]
  },
  {
   "cell_type": "code",
   "execution_count": 52,
   "id": "a7b1a621",
   "metadata": {},
   "outputs": [
    {
     "name": "stderr",
     "output_type": "stream",
     "text": [
      "/tmp/ipykernel_3404/1786093199.py:2: DeprecationWarning: Call to deprecated `__contains__` (Method will be removed in 4.0.0, use self.wv.__contains__() instead).\n",
      "  if index_to_word[i] in word2vec:\n",
      "/tmp/ipykernel_3404/1786093199.py:3: DeprecationWarning: Call to deprecated `__getitem__` (Method will be removed in 4.0.0, use self.wv.__getitem__() instead).\n",
      "  embedding_matrix[i] = word2vec[index_to_word[i]]\n"
     ]
    }
   ],
   "source": [
    "for i in range(4,vocab_size):\n",
    "    if index_to_word[i] in word2vec:\n",
    "        embedding_matrix[i] = word2vec[index_to_word[i]]"
   ]
  },
  {
   "cell_type": "code",
   "execution_count": 70,
   "id": "5389cb41",
   "metadata": {},
   "outputs": [
    {
     "name": "stdout",
     "output_type": "stream",
     "text": [
      "Model: \"sequential_12\"\n",
      "_________________________________________________________________\n",
      "Layer (type)                 Output Shape              Param #   \n",
      "=================================================================\n",
      "embedding_11 (Embedding)     (None, 41, 200)           1594600   \n",
      "_________________________________________________________________\n",
      "global_max_pooling1d_9 (Glob (None, 200)               0         \n",
      "_________________________________________________________________\n",
      "dense_22 (Dense)             (None, 16)                3216      \n",
      "_________________________________________________________________\n",
      "dense_23 (Dense)             (None, 1)                 17        \n",
      "=================================================================\n",
      "Total params: 1,597,833\n",
      "Trainable params: 1,597,833\n",
      "Non-trainable params: 0\n",
      "_________________________________________________________________\n"
     ]
    }
   ],
   "source": [
    "model3 = tf.keras.Sequential()\n",
    "model3.add(Embedding(vocab_size, word_vector_dim, embeddings_initializer=Constant(embedding_matrix),\n",
    "                   input_length=maxlen,\n",
    "                   trainable = True))\n",
    "model3.add(tf.keras.layers.GlobalMaxPooling1D())\n",
    "model3.add(tf.keras.layers.Dense(16, activation='relu'))\n",
    "model3.add(tf.keras.layers.Dense(1, activation='sigmoid'))  \n",
    "\n",
    "model3.summary()"
   ]
  },
  {
   "cell_type": "code",
   "execution_count": 71,
   "id": "a5786753",
   "metadata": {},
   "outputs": [
    {
     "name": "stdout",
     "output_type": "stream",
     "text": [
      "Epoch 1/10\n",
      "103/103 [==============================] - 2s 11ms/step - loss: 0.6885 - accuracy: 0.5746 - val_loss: 0.6530 - val_accuracy: 0.6227\n",
      "Epoch 2/10\n",
      "103/103 [==============================] - 1s 9ms/step - loss: 0.6201 - accuracy: 0.6574 - val_loss: 0.6139 - val_accuracy: 0.6630\n",
      "Epoch 3/10\n",
      "103/103 [==============================] - 1s 9ms/step - loss: 0.5829 - accuracy: 0.6948 - val_loss: 0.5795 - val_accuracy: 0.6973\n",
      "Epoch 4/10\n",
      "103/103 [==============================] - 1s 9ms/step - loss: 0.5519 - accuracy: 0.7196 - val_loss: 0.5571 - val_accuracy: 0.7150\n",
      "Epoch 5/10\n",
      "103/103 [==============================] - 1s 9ms/step - loss: 0.5223 - accuracy: 0.7428 - val_loss: 0.5399 - val_accuracy: 0.7273\n",
      "Epoch 6/10\n",
      "103/103 [==============================] - 1s 10ms/step - loss: 0.4948 - accuracy: 0.7595 - val_loss: 0.5229 - val_accuracy: 0.7412\n",
      "Epoch 7/10\n",
      "103/103 [==============================] - 1s 10ms/step - loss: 0.4740 - accuracy: 0.7756 - val_loss: 0.5099 - val_accuracy: 0.7505\n",
      "Epoch 8/10\n",
      "103/103 [==============================] - 1s 9ms/step - loss: 0.4465 - accuracy: 0.7918 - val_loss: 0.5118 - val_accuracy: 0.7513\n",
      "Epoch 9/10\n",
      "103/103 [==============================] - 1s 9ms/step - loss: 0.4242 - accuracy: 0.8068 - val_loss: 0.4905 - val_accuracy: 0.7640\n",
      "Epoch 10/10\n",
      "103/103 [==============================] - 1s 9ms/step - loss: 0.4083 - accuracy: 0.8152 - val_loss: 0.4843 - val_accuracy: 0.7688\n"
     ]
    }
   ],
   "source": [
    "model3.compile(optimizer='adam',\n",
    "              loss='binary_crossentropy',\n",
    "              metrics=['accuracy'])\n",
    "              \n",
    "epochs=10  \n",
    "\n",
    "history3 = model3.fit(partial_x_train,\n",
    "                    partial_y_train,\n",
    "                    epochs=epochs,\n",
    "                    batch_size=256,\n",
    "                    validation_data=(x_val, y_val),\n",
    "                    verbose=1)"
   ]
  },
  {
   "cell_type": "code",
   "execution_count": 72,
   "id": "b53e510b",
   "metadata": {},
   "outputs": [
    {
     "name": "stdout",
     "output_type": "stream",
     "text": [
      "WARNING:tensorflow:Layer lstm_5 will not use cuDNN kernels since it doesn't meet the criteria. It will use a generic GPU kernel as fallback when running on GPU.\n",
      "WARNING:tensorflow:Layer lstm_6 will not use cuDNN kernels since it doesn't meet the criteria. It will use a generic GPU kernel as fallback when running on GPU.\n",
      "Model: \"sequential_13\"\n",
      "_________________________________________________________________\n",
      "Layer (type)                 Output Shape              Param #   \n",
      "=================================================================\n",
      "embedding_12 (Embedding)     (None, 41, 200)           1594600   \n",
      "_________________________________________________________________\n",
      "dropout (Dropout)            (None, 41, 200)           0         \n",
      "_________________________________________________________________\n",
      "lstm_5 (LSTM)                (None, 41, 196)           311248    \n",
      "_________________________________________________________________\n",
      "lstm_6 (LSTM)                (None, 41, 196)           308112    \n",
      "_________________________________________________________________\n",
      "max_pooling1d_7 (MaxPooling1 (None, 20, 196)           0         \n",
      "_________________________________________________________________\n",
      "global_max_pooling1d_10 (Glo (None, 196)               0         \n",
      "_________________________________________________________________\n",
      "dense_24 (Dense)             (None, 784)               154448    \n",
      "_________________________________________________________________\n",
      "dense_25 (Dense)             (None, 784)               615440    \n",
      "_________________________________________________________________\n",
      "dense_26 (Dense)             (None, 1)                 785       \n",
      "=================================================================\n",
      "Total params: 2,984,633\n",
      "Trainable params: 2,984,633\n",
      "Non-trainable params: 0\n",
      "_________________________________________________________________\n"
     ]
    }
   ],
   "source": [
    "from tensorflow.keras.initializers import Constant\n",
    "\n",
    "model4 = Sequential()\n",
    "model4.add(Embedding(vocab_size, word_vector_dim, embeddings_initializer=Constant(embedding_matrix),\n",
    "                   input_length=maxlen,\n",
    "                   trainable = True))\n",
    "model4.add(Dropout(0.2))\n",
    "model4.add(LSTM(196, return_sequences=True, dropout=0.2, recurrent_dropout=0.2))  \n",
    "model4.add(LSTM(196, return_sequences=True, dropout=0.2, recurrent_dropout=0.2))  \n",
    "model4.add(MaxPooling1D())\n",
    "model4.add(GlobalMaxPooling1D())\n",
    "model4.add(Dense(784, activation='relu'))\n",
    "model4.add(Dense(784, activation='relu'))\n",
    "\n",
    "model4.add(Dense(1, activation='sigmoid')) \n",
    "\n",
    "model4.summary()"
   ]
  },
  {
   "cell_type": "code",
   "execution_count": 74,
   "id": "b468b797",
   "metadata": {},
   "outputs": [
    {
     "name": "stdout",
     "output_type": "stream",
     "text": [
      "Epoch 1/10\n",
      "103/103 [==============================] - 52s 471ms/step - loss: 0.2107 - accuracy: 0.9117 - val_loss: 0.4376 - val_accuracy: 0.8359\n",
      "Epoch 2/10\n",
      "103/103 [==============================] - 48s 466ms/step - loss: 0.1956 - accuracy: 0.9196 - val_loss: 0.4459 - val_accuracy: 0.8353\n",
      "Epoch 3/10\n",
      "103/103 [==============================] - 48s 466ms/step - loss: 0.1753 - accuracy: 0.9276 - val_loss: 0.4929 - val_accuracy: 0.8346\n",
      "Epoch 4/10\n",
      "103/103 [==============================] - 48s 470ms/step - loss: 0.1699 - accuracy: 0.9294 - val_loss: 0.5627 - val_accuracy: 0.8279\n",
      "Epoch 5/10\n",
      "103/103 [==============================] - 47s 459ms/step - loss: 0.1540 - accuracy: 0.9362 - val_loss: 0.5770 - val_accuracy: 0.8244\n",
      "Epoch 6/10\n",
      "103/103 [==============================] - 47s 457ms/step - loss: 0.1448 - accuracy: 0.9411 - val_loss: 0.5454 - val_accuracy: 0.8323\n",
      "Epoch 7/10\n",
      "103/103 [==============================] - 48s 463ms/step - loss: 0.1325 - accuracy: 0.9440 - val_loss: 0.5535 - val_accuracy: 0.8333\n",
      "Epoch 8/10\n",
      "103/103 [==============================] - 48s 464ms/step - loss: 0.1280 - accuracy: 0.9460 - val_loss: 0.5870 - val_accuracy: 0.8298\n",
      "Epoch 9/10\n",
      "103/103 [==============================] - 48s 463ms/step - loss: 0.1183 - accuracy: 0.9508 - val_loss: 0.6236 - val_accuracy: 0.8280\n",
      "Epoch 10/10\n",
      "103/103 [==============================] - 47s 462ms/step - loss: 0.1122 - accuracy: 0.9541 - val_loss: 0.6302 - val_accuracy: 0.8292\n"
     ]
    }
   ],
   "source": [
    "model4.compile(optimizer='adam',\n",
    "              loss='binary_crossentropy',\n",
    "              metrics=['accuracy'])\n",
    "              \n",
    "epochs=10  \n",
    "\n",
    "history4 = model4.fit(partial_x_train,\n",
    "                    partial_y_train,\n",
    "                    epochs=epochs,\n",
    "                    batch_size=256,\n",
    "                    validation_data=(x_val, y_val),\n",
    "                    verbose=1)"
   ]
  }
 ],
 "metadata": {
  "kernelspec": {
   "display_name": "Python 3 (ipykernel)",
   "language": "python",
   "name": "python3"
  },
  "language_info": {
   "codemirror_mode": {
    "name": "ipython",
    "version": 3
   },
   "file_extension": ".py",
   "mimetype": "text/x-python",
   "name": "python",
   "nbconvert_exporter": "python",
   "pygments_lexer": "ipython3",
   "version": "3.9.7"
  }
 },
 "nbformat": 4,
 "nbformat_minor": 5
}
