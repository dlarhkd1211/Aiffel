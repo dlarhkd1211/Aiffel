{
 "cells": [
  {
   "cell_type": "markdown",
   "metadata": {},
   "source": [
    "# 미니프로젝트 : 가위바위보 분류기 제작"
   ]
  },
  {
   "cell_type": "code",
   "execution_count": 1,
   "metadata": {},
   "outputs": [],
   "source": [
    "import tensorflow as tf\n",
    "# gpus = tf.config.experimental.list_physical_devices('GPU')\n",
    "# tf.config.experimental.set_memory_growth(gpus[0], True)\n",
    "from tensorflow import keras\n",
    "from tensorflow.keras.layers import *\n",
    "\n",
    "import numpy as np\n",
    "from PIL import Image\n",
    "from glob import glob\n",
    "import matplotlib.pyplot as plt\n",
    "import os"
   ]
  },
  {
   "cell_type": "code",
   "execution_count": 3,
   "metadata": {},
   "outputs": [
    {
     "data": {
      "text/plain": [
       "(28, 28, 3)"
      ]
     },
     "execution_count": 3,
     "metadata": {},
     "output_type": "execute_result"
    }
   ],
   "source": [
    "img = Image.open('.\\\\data\\\\train\\\\paper\\\\0.jpg')\n",
    "img = np.array(img)\n",
    "img.shape"
   ]
  },
  {
   "cell_type": "code",
   "execution_count": 4,
   "metadata": {},
   "outputs": [],
   "source": [
    "def resize_images(img_path):\n",
    "    images = glob(img_path + '\\\\*.jpg')\n",
    "    \n",
    "    print(len(images))\n",
    "    \n",
    "    target_size = (28, 28)\n",
    "    for img in images:\n",
    "        old_img = Image.open(img)\n",
    "        new_img = old_img.resize(target_size, Image.ANTIALIAS)\n",
    "        new_img.save(img, 'JPEG')\n",
    "        \n",
    "    print(len(images), 'Images resized')"
   ]
  },
  {
   "cell_type": "code",
   "execution_count": 5,
   "metadata": {},
   "outputs": [
    {
     "name": "stdout",
     "output_type": "stream",
     "text": [
      "100\n",
      "100 Images resized\n",
      "가위 이미지 resize 완료!\n"
     ]
    }
   ],
   "source": [
    "image_dir_path =\".\\\\data\\\\train\\\\scissor\"\n",
    "resize_images(image_dir_path)\n",
    "\n",
    "print(\"가위 이미지 resize 완료!\")"
   ]
  },
  {
   "cell_type": "code",
   "execution_count": 6,
   "metadata": {},
   "outputs": [
    {
     "name": "stdout",
     "output_type": "stream",
     "text": [
      "100\n",
      "100 Images resized\n",
      "보 이미지 resize 완료!\n"
     ]
    }
   ],
   "source": [
    "image_dir_path =\".\\\\data\\\\train\\\\paper\"\n",
    "resize_images(image_dir_path)\n",
    "\n",
    "print(\"보 이미지 resize 완료!\")"
   ]
  },
  {
   "cell_type": "code",
   "execution_count": 7,
   "metadata": {},
   "outputs": [
    {
     "name": "stdout",
     "output_type": "stream",
     "text": [
      "100\n",
      "100 Images resized\n",
      "바위 이미지 resize 완료!\n"
     ]
    }
   ],
   "source": [
    "image_dir_path =\".\\\\data\\\\train\\\\rock\"\n",
    "resize_images(image_dir_path)\n",
    "\n",
    "print(\"바위 이미지 resize 완료!\")"
   ]
  },
  {
   "cell_type": "code",
   "execution_count": 8,
   "metadata": {},
   "outputs": [],
   "source": [
    "def load_data(img_path, number_of_data = 300):\n",
    "    img_size = 28\n",
    "    color = 3\n",
    "    imgs = np.zeros(number_of_data * img_size * img_size * color, dtype = np.int32).reshape(number_of_data, img_size, img_size, color)\n",
    "    labels = np.zeros(number_of_data, dtype = np.int32)\n",
    "    \n",
    "    idx = 0\n",
    "    # 가위 : 0, 바위 : 1, 보 : 2\n",
    "    for file in glob(img_path + '\\\\scissor\\\\*.jpg'):\n",
    "        img = np.array(Image.open(file), dtype = np.int32)\n",
    "        imgs[idx,:,:,:] = img\n",
    "        labels[idx] = 0\n",
    "        idx += 1\n",
    "        \n",
    "    for file in glob(img_path + '\\\\rock\\\\*.jpg'):\n",
    "        img = np.array(Image.open(file), dtype = np.int32)\n",
    "        imgs[idx,:,:,:] = img\n",
    "        labels[idx] = 1\n",
    "        idx += 1\n",
    "        \n",
    "    for file in glob(img_path + '\\\\paper\\\\*.jpg'):\n",
    "        img = np.array(Image.open(file), dtype = np.int32)\n",
    "        imgs[idx,:,:,:] = img\n",
    "        labels[idx] = 2\n",
    "        idx += 1\n",
    "        \n",
    "    print('학습데이터의 이미지 개수는 ',idx,'입니다.')\n",
    "    return imgs, labels"
   ]
  },
  {
   "cell_type": "code",
   "execution_count": 9,
   "metadata": {},
   "outputs": [
    {
     "name": "stdout",
     "output_type": "stream",
     "text": [
      "학습데이터의 이미지 개수는  300 입니다.\n"
     ]
    }
   ],
   "source": [
    "img_dir_path = '.\\\\data\\\\train'\n",
    "x_train, y_train = load_data(img_dir_path)\n",
    "x_train_norm = x_train / 255."
   ]
  },
  {
   "cell_type": "code",
   "execution_count": 10,
   "metadata": {
    "scrolled": true
   },
   "outputs": [
    {
     "name": "stdout",
     "output_type": "stream",
     "text": [
      "라벨:  0\n"
     ]
    },
    {
     "data": {
      "image/png": "[encoded data removed]",
      "text/plain": [
       "<Figure size 432x288 with 1 Axes>"
      ]
     },
     "metadata": {
      "needs_background": "light"
     },
     "output_type": "display_data"
    }
   ],
   "source": [
    "plt.imshow(x_train[0])\n",
    "print('라벨: ', y_train[0])"
   ]
  },
  {
   "cell_type": "code",
   "execution_count": 11,
   "metadata": {},
   "outputs": [
    {
     "name": "stdout",
     "output_type": "stream",
     "text": [
      "Model: \"sequential\"\n",
      "_________________________________________________________________\n",
      "Layer (type)                 Output Shape              Param #   \n",
      "=================================================================\n",
      "conv2d (Conv2D)              (None, 26, 26, 32)        896       \n",
      "_________________________________________________________________\n",
      "max_pooling2d (MaxPooling2D) (None, 13, 13, 32)        0         \n",
      "_________________________________________________________________\n",
      "conv2d_1 (Conv2D)            (None, 11, 11, 64)        18496     \n",
      "_________________________________________________________________\n",
      "max_pooling2d_1 (MaxPooling2 (None, 5, 5, 64)          0         \n",
      "_________________________________________________________________\n",
      "flatten (Flatten)            (None, 1600)              0         \n",
      "_________________________________________________________________\n",
      "dense (Dense)                (None, 64)                102464    \n",
      "_________________________________________________________________\n",
      "dense_1 (Dense)              (None, 3)                 195       \n",
      "=================================================================\n",
      "Total params: 122,051\n",
      "Trainable params: 122,051\n",
      "Non-trainable params: 0\n",
      "_________________________________________________________________\n",
      "Epoch 1/10\n",
      "10/10 [==============================] - 1s 17ms/step - loss: 1.1189 - accuracy: 0.3367\n",
      "Epoch 2/10\n",
      "10/10 [==============================] - 0s 19ms/step - loss: 1.0387 - accuracy: 0.4967\n",
      "Epoch 3/10\n",
      "10/10 [==============================] - 0s 18ms/step - loss: 0.9267 - accuracy: 0.6533\n",
      "Epoch 4/10\n",
      "10/10 [==============================] - 0s 17ms/step - loss: 0.7345 - accuracy: 0.8167\n",
      "Epoch 5/10\n",
      "10/10 [==============================] - 0s 19ms/step - loss: 0.5489 - accuracy: 0.8400\n",
      "Epoch 6/10\n",
      "10/10 [==============================] - 0s 20ms/step - loss: 0.3573 - accuracy: 0.9533\n",
      "Epoch 7/10\n",
      "10/10 [==============================] - 0s 19ms/step - loss: 0.2202 - accuracy: 0.9767\n",
      "Epoch 8/10\n",
      "10/10 [==============================] - 0s 19ms/step - loss: 0.1358 - accuracy: 0.9900\n",
      "Epoch 9/10\n",
      "10/10 [==============================] - 0s 17ms/step - loss: 0.0886 - accuracy: 0.9867\n",
      "Epoch 10/10\n",
      "10/10 [==============================] - 0s 16ms/step - loss: 0.0510 - accuracy: 1.0000\n"
     ]
    },
    {
     "data": {
      "text/plain": [
       "<keras.callbacks.History at 0x2ab28d68610>"
      ]
     },
     "execution_count": 11,
     "metadata": {},
     "output_type": "execute_result"
    }
   ],
   "source": [
    "n_channel_1= 32\n",
    "n_channel_2 = 64\n",
    "n_dense = 64\n",
    "n_train_epoch = 10\n",
    "\n",
    "model = keras.models.Sequential()\n",
    "model.add(Conv2D(n_channel_1, (3, 3), activation = 'relu', input_shape = (28, 28, 3)))\n",
    "model.add(MaxPooling2D(2, 2))\n",
    "model.add(Conv2D(n_channel_2, (3, 3), activation = 'relu'))\n",
    "model.add(MaxPooling2D(2, 2))\n",
    "model.add(Flatten())\n",
    "model.add(Dense(n_dense, activation = 'relu'))\n",
    "model.add(Dense(3, activation = 'softmax'))\n",
    "\n",
    "model.summary()\n",
    "model.compile(optimizer = 'adam', \n",
    "             loss = 'sparse_categorical_crossentropy',\n",
    "             metrics = ['accuracy'])\n",
    "\n",
    "model.fit(x_train_norm, y_train, epochs = n_train_epoch)"
   ]
  },
  {
   "cell_type": "code",
   "execution_count": 12,
   "metadata": {},
   "outputs": [
    {
     "name": "stdout",
     "output_type": "stream",
     "text": [
      "100\n",
      "100 Images resized\n",
      "100\n",
      "100 Images resized\n",
      "100\n",
      "100 Images resized\n"
     ]
    }
   ],
   "source": [
    "image_dir_path =\".\\\\data\\\\test\\\\rock\"\n",
    "resize_images(image_dir_path)\n",
    "image_dir_path =\".\\\\data\\\\test\\\\scissor\"\n",
    "resize_images(image_dir_path)\n",
    "image_dir_path =\".\\\\data\\\\test\\\\paper\"\n",
    "resize_images(image_dir_path)\n"
   ]
  },
  {
   "cell_type": "code",
   "execution_count": 13,
   "metadata": {},
   "outputs": [
    {
     "name": "stdout",
     "output_type": "stream",
     "text": [
      "학습데이터의 이미지 개수는  300 입니다.\n"
     ]
    }
   ],
   "source": [
    "test_dir_path = '.\\\\data\\\\test'\n",
    "x_test, y_test = load_data(test_dir_path)\n",
    "x_test_norm = x_test / 255."
   ]
  },
  {
   "cell_type": "code",
   "execution_count": 14,
   "metadata": {},
   "outputs": [
    {
     "name": "stdout",
     "output_type": "stream",
     "text": [
      "10/10 - 0s - loss: 4.3038 - accuracy: 0.3333\n",
      "test_loss : 4.303773403167725\n",
      "test_accuracy : 0.3333333432674408\n"
     ]
    }
   ],
   "source": [
    "test_loss , test_accuracy = model.evaluate(x_test_norm, y_test, verbose = 2)\n",
    "print('test_loss : {}'.format(test_loss))\n",
    "print('test_accuracy : {}'.format(test_accuracy))"
   ]
  },
  {
   "cell_type": "code",
   "execution_count": null,
   "metadata": {},
   "outputs": [],
   "source": []
  },
  {
   "cell_type": "code",
   "execution_count": null,
   "metadata": {},
   "outputs": [],
   "source": []
  },
  {
   "cell_type": "code",
   "execution_count": null,
   "metadata": {},
   "outputs": [],
   "source": []
  }
 ],
 "metadata": {
  "kernelspec": {
   "display_name": "Python 3",
   "language": "python",
   "name": "python3"
  },
  "language_info": {
   "codemirror_mode": {
    "name": "ipython",
    "version": 3
   },
   "file_extension": ".py",
   "mimetype": "text/x-python",
   "name": "python",
   "nbconvert_exporter": "python",
   "pygments_lexer": "ipython3",
   "version": "3.8.5"
  }
 },
 "nbformat": 4,
 "nbformat_minor": 4
}
